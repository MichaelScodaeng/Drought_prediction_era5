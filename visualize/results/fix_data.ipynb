{
 "cells": [
  {
   "cell_type": "code",
   "execution_count": 1,
   "id": "68df573a",
   "metadata": {},
   "outputs": [],
   "source": [
    "import pandas as pd\n",
    "import numpy as np\n",
    "df_full = pd.read_csv(\"../../data/full.csv\")"
   ]
  },
  {
   "cell_type": "code",
   "execution_count": 2,
   "id": "ab694fa0",
   "metadata": {},
   "outputs": [
    {
     "data": {
      "text/plain": [
       "'c:\\\\Users\\\\peera\\\\Desktop\\\\DroughtLSTM_oneday\\\\visualize\\\\results'"
      ]
     },
     "execution_count": 2,
     "metadata": {},
     "output_type": "execute_result"
    }
   ],
   "source": [
    "%pwd"
   ]
  },
  {
   "cell_type": "code",
   "execution_count": 3,
   "id": "bccbad5b",
   "metadata": {},
   "outputs": [
    {
     "name": "stderr",
     "output_type": "stream",
     "text": [
      "C:\\Users\\peera\\AppData\\Local\\Temp\\ipykernel_54752\\2110491648.py:2: UserWarning: Parsing dates in %d/%m/%Y format when dayfirst=False (the default) was specified. Pass `dayfirst=True` or specify a format to silence this warning.\n",
      "  df_full['time'] = pd.to_datetime(df_full['time'])\n"
     ]
    },
    {
     "data": {
      "text/plain": [
       "time\n",
       "1     22017\n",
       "2     22017\n",
       "3     22017\n",
       "4     22017\n",
       "5     22017\n",
       "6     22017\n",
       "7     22017\n",
       "8     22017\n",
       "9     22017\n",
       "10    22017\n",
       "11    22017\n",
       "12    22017\n",
       "Name: count, dtype: int64"
      ]
     },
     "execution_count": 3,
     "metadata": {},
     "output_type": "execute_result"
    }
   ],
   "source": [
    "#check if there is any lat,lon miss some time steps (time steps are more than 31 days)\n",
    "df_full['time'] = pd.to_datetime(df_full['time'])\n",
    "df_full['time'].dt.month.value_counts().sort_index()\n",
    "#check if there is any lat,lon miss some time steps (time steps are more than 31 days)\n",
    "df_full['time'].dt.month.value_counts().sort_index()\n",
    "#check if there is any lat,lon miss some time steps (time steps are more than 31 days)\n"
   ]
  },
  {
   "cell_type": "code",
   "execution_count": 4,
   "id": "8c23b446",
   "metadata": {},
   "outputs": [
    {
     "data": {
      "text/plain": [
       "Index(['lon', 'lat', 'time', 'tmp', 'dtr', 'cld', 'tmx', 'tmn', 'pre', 'wet',\n",
       "       'vap', 'spei', 'soi', 'dmi', 'pdo', 'nino4', 'nino34', 'nino3', 'pet'],\n",
       "      dtype='object')"
      ]
     },
     "execution_count": 4,
     "metadata": {},
     "output_type": "execute_result"
    }
   ],
   "source": [
    "df_full.columns"
   ]
  },
  {
   "cell_type": "code",
   "execution_count": 31,
   "id": "42566032",
   "metadata": {},
   "outputs": [
    {
     "data": {
      "text/plain": [
       "time\n",
       "1     22016\n",
       "2     22017\n",
       "3     22017\n",
       "4     22017\n",
       "5     22017\n",
       "6     22017\n",
       "7     22017\n",
       "8     22017\n",
       "9     22017\n",
       "10    22017\n",
       "11    22017\n",
       "12    22015\n",
       "Name: count, dtype: int64"
      ]
     },
     "execution_count": 31,
     "metadata": {},
     "output_type": "execute_result"
    }
   ],
   "source": [
    "#check if there is any lat,lon miss some time steps (time steps are more than 31 days)\n",
    "df_merged['time'] = pd.to_datetime(df_merged['time'])\n",
    "df_merged['time'].dt.month.value_counts().sort_index()\n",
    "#check if there is any row that missed time steps\n",
    "df_merged['time'].dt.month.value_counts().sort_index()\n",
    "\n"
   ]
  },
  {
   "cell_type": "code",
   "execution_count": 32,
   "id": "636ab8fb",
   "metadata": {},
   "outputs": [
    {
     "name": "stdout",
     "output_type": "stream",
     "text": [
      "Total missing sequences: 3\n"
     ]
    },
    {
     "data": {
      "text/html": [
       "<div>\n",
       "<style scoped>\n",
       "    .dataframe tbody tr th:only-of-type {\n",
       "        vertical-align: middle;\n",
       "    }\n",
       "\n",
       "    .dataframe tbody tr th {\n",
       "        vertical-align: top;\n",
       "    }\n",
       "\n",
       "    .dataframe thead th {\n",
       "        text-align: right;\n",
       "    }\n",
       "</style>\n",
       "<table border=\"1\" class=\"dataframe\">\n",
       "  <thead>\n",
       "    <tr style=\"text-align: right;\">\n",
       "      <th></th>\n",
       "      <th>lat</th>\n",
       "      <th>lon</th>\n",
       "      <th>time</th>\n",
       "      <th>time_diff</th>\n",
       "    </tr>\n",
       "  </thead>\n",
       "  <tbody>\n",
       "    <tr>\n",
       "      <th>105467</th>\n",
       "      <td>15.25</td>\n",
       "      <td>99.25</td>\n",
       "      <td>1950-02-15</td>\n",
       "      <td>61 days</td>\n",
       "    </tr>\n",
       "    <tr>\n",
       "      <th>98984</th>\n",
       "      <td>15.75</td>\n",
       "      <td>105.25</td>\n",
       "      <td>1947-01-16</td>\n",
       "      <td>61 days</td>\n",
       "    </tr>\n",
       "    <tr>\n",
       "      <th>98981</th>\n",
       "      <td>17.25</td>\n",
       "      <td>104.75</td>\n",
       "      <td>1947-01-16</td>\n",
       "      <td>61 days</td>\n",
       "    </tr>\n",
       "  </tbody>\n",
       "</table>\n",
       "</div>"
      ],
      "text/plain": [
       "          lat     lon       time time_diff\n",
       "105467  15.25   99.25 1950-02-15   61 days\n",
       "98984   15.75  105.25 1947-01-16   61 days\n",
       "98981   17.25  104.75 1947-01-16   61 days"
      ]
     },
     "metadata": {},
     "output_type": "display_data"
    }
   ],
   "source": [
    "# Ensure datetime is sorted\n",
    "df_merged = df_merged.sort_values(['lat', 'lon', 'time'])\n",
    "\n",
    "# For each (lat, lon), compute time difference\n",
    "df_merged['time_diff'] = df_merged.groupby(['lat', 'lon'])['time'].diff()\n",
    "\n",
    "# Flag rows where gap is more than 31 days\n",
    "missing_by_location = df_merged[df_merged['time_diff'] > pd.Timedelta(days=31)]\n",
    "\n",
    "print(f\"Total missing sequences: {len(missing_by_location)}\")\n",
    "display(missing_by_location[['lat', 'lon', 'time', 'time_diff']].head())\n"
   ]
  },
  {
   "cell_type": "code",
   "execution_count": 35,
   "id": "00fb5db9",
   "metadata": {},
   "outputs": [
    {
     "data": {
      "text/html": [
       "<div>\n",
       "<style scoped>\n",
       "    .dataframe tbody tr th:only-of-type {\n",
       "        vertical-align: middle;\n",
       "    }\n",
       "\n",
       "    .dataframe tbody tr th {\n",
       "        vertical-align: top;\n",
       "    }\n",
       "\n",
       "    .dataframe thead th {\n",
       "        text-align: right;\n",
       "    }\n",
       "</style>\n",
       "<table border=\"1\" class=\"dataframe\">\n",
       "  <thead>\n",
       "    <tr style=\"text-align: right;\">\n",
       "      <th></th>\n",
       "      <th>Unnamed: 0</th>\n",
       "      <th>lon</th>\n",
       "      <th>lat</th>\n",
       "      <th>time</th>\n",
       "      <th>tmp</th>\n",
       "      <th>dtr</th>\n",
       "      <th>cld</th>\n",
       "      <th>tmx</th>\n",
       "      <th>tmn</th>\n",
       "      <th>pet</th>\n",
       "      <th>...</th>\n",
       "      <th>wet</th>\n",
       "      <th>vap</th>\n",
       "      <th>spei</th>\n",
       "      <th>soi</th>\n",
       "      <th>dmi</th>\n",
       "      <th>pdo</th>\n",
       "      <th>nino4</th>\n",
       "      <th>nino34</th>\n",
       "      <th>nino3</th>\n",
       "      <th>time_diff</th>\n",
       "    </tr>\n",
       "  </thead>\n",
       "  <tbody>\n",
       "  </tbody>\n",
       "</table>\n",
       "<p>0 rows × 21 columns</p>\n",
       "</div>"
      ],
      "text/plain": [
       "Empty DataFrame\n",
       "Columns: [Unnamed: 0, lon, lat, time, tmp, dtr, cld, tmx, tmn, pet, pre, wet, vap, spei, soi, dmi, pdo, nino4, nino34, nino3, time_diff]\n",
       "Index: []\n",
       "\n",
       "[0 rows x 21 columns]"
      ]
     },
     "execution_count": 35,
     "metadata": {},
     "output_type": "execute_result"
    }
   ],
   "source": [
    "# get data at 15.25\t99.25\t1950-02-15\n",
    "lat = 15.25\n",
    "lon = 99.25\n",
    "date = '1950-01-16'\n",
    "df_subset = df_merged[(df_merged['lat'] == lat) & (df_merged['lon'] == lon) & (df_merged['time'] == date)]\n",
    "df_subset"
   ]
  },
  {
   "cell_type": "code",
   "execution_count": null,
   "id": "1e0f6c17",
   "metadata": {},
   "outputs": [],
   "source": []
  }
 ],
 "metadata": {
  "kernelspec": {
   "display_name": "drought_lstm_base",
   "language": "python",
   "name": "python3"
  },
  "language_info": {
   "codemirror_mode": {
    "name": "ipython",
    "version": 3
   },
   "file_extension": ".py",
   "mimetype": "text/x-python",
   "name": "python",
   "nbconvert_exporter": "python",
   "pygments_lexer": "ipython3",
   "version": "3.12.7"
  }
 },
 "nbformat": 4,
 "nbformat_minor": 5
}
