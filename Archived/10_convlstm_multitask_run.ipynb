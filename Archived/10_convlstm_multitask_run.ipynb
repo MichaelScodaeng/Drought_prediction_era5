{
 "cells": [
  {
   "cell_type": "code",
   "execution_count": 1,
   "id": "10d1d1a3",
   "metadata": {},
   "outputs": [
    {
     "name": "stdout",
     "output_type": "stream",
     "text": [
      "Added project root to sys.path: c:\\Users\\peera\\Desktop\\DroughtLSTM_oneday\n"
     ]
    },
    {
     "name": "stderr",
     "output_type": "stream",
     "text": [
      "c:\\Users\\peera\\.conda\\envs\\drought_lstm_base\\Lib\\site-packages\\tqdm\\auto.py:21: TqdmWarning: IProgress not found. Please update jupyter and ipywidgets. See https://ipywidgets.readthedocs.io/en/stable/user_install.html\n",
      "  from .autonotebook import tqdm as notebook_tqdm\n"
     ]
    },
    {
     "name": "stdout",
     "output_type": "stream",
     "text": [
      "PyTorch, PyTorch Lightning, and Optuna successfully imported.\n",
      "ConvLSTM Multitask Pipeline: Successfully imported utility functions.\n",
      "Configuration loaded from c:\\Users\\peera\\Desktop\\DroughtLSTM_oneday\\config_ConvLSTM_Multitask.yaml\n",
      "\n",
      "--- Starting ConvLSTM Multitask Global Pipeline ---\n",
      "Successfully loaded data from c:\\Users\\peera\\Desktop\\DroughtLSTM_oneday\\data\\full.csv. Shape: (264201, 19)\n",
      "Converted column 'time' to datetime.\n",
      "Data sorted by ['time', 'lat', 'lon'].\n",
      "--- Starting Data Gridding Process (Fixed Step Method) ---\n",
      "Using fixed grid step of: 0.5 degrees\n",
      "Grid boundaries: LAT (6.25, 20.25), LON (97.75, 105.25)\n",
      "Calculated grid dimensions: Height=29, Width=16\n",
      "Created 2D validity mask (29x16) with 179 valid data pixels.\n",
      "Pivoting data into a 4D tensor of shape (1476, 29, 16, 16)...\n"
     ]
    },
    {
     "name": "stderr",
     "output_type": "stream",
     "text": [
      "[I 2025-06-08 00:48:56,715] A new study created in memory with name: no-name-b7b56354-1ce3-462c-8182-6ec890176a52\n",
      "GPU available: True (cuda), used: True\n"
     ]
    },
    {
     "name": "stdout",
     "output_type": "stream",
     "text": [
      "--- Data Gridding Process Finished ---\n"
     ]
    },
    {
     "name": "stderr",
     "output_type": "stream",
     "text": [
      "TPU available: False, using: 0 TPU cores\n",
      "HPU available: False, using: 0 HPUs\n",
      "You are using a CUDA device ('NVIDIA GeForce RTX 4060 Laptop GPU') that has Tensor Cores. To properly utilize them, you should set `torch.set_float32_matmul_precision('medium' | 'high')` which will trade-off precision for performance. For more details, read https://pytorch.org/docs/stable/generated/torch.set_float32_matmul_precision.html#torch.set_float32_matmul_precision\n",
      "LOCAL_RANK: 0 - CUDA_VISIBLE_DEVICES: [0]\n",
      "\n",
      "  | Name      | Type                        | Params | Mode \n",
      "------------------------------------------------------------------\n",
      "0 | model     | EncodingForecastingConvLSTM | 16.7 M | train\n",
      "1 | criterion | MSELoss                     | 0      | train\n",
      "------------------------------------------------------------------\n",
      "16.7 M    Trainable params\n",
      "0         Non-trainable params\n",
      "16.7 M    Total params\n",
      "66.669    Total estimated model params size (MB)\n",
      "15        Modules in train mode\n",
      "0         Modules in eval mode\n",
      "C:\\Users\\peera\\AppData\\Roaming\\Python\\Python312\\site-packages\\pytorch_lightning\\trainer\\connectors\\data_connector.py:425: The 'val_dataloader' does not have many workers which may be a bottleneck. Consider increasing the value of the `num_workers` argument` to `num_workers=19` in the `DataLoader` to improve performance.\n",
      "C:\\Users\\peera\\AppData\\Roaming\\Python\\Python312\\site-packages\\pytorch_lightning\\trainer\\connectors\\data_connector.py:425: The 'train_dataloader' does not have many workers which may be a bottleneck. Consider increasing the value of the `num_workers` argument` to `num_workers=19` in the `DataLoader` to improve performance.\n",
      "C:\\Users\\peera\\AppData\\Roaming\\Python\\Python312\\site-packages\\optuna\\trial\\_trial.py:497: UserWarning: The reported value is ignored because this `step` 0 is already reported.\n",
      "  warnings.warn(\n",
      "`Trainer.fit` stopped: `max_epochs=2` reached.\n",
      "[I 2025-06-08 00:50:18,280] Trial 0 finished with value: 41951.36328125 and parameters: {'learning_rate': 6.834742316710666e-05, 'n_layers': 2, 'hidden_dim_size': 256, 'kernel_size': 3}. Best is trial 0 with value: 41951.36328125.\n",
      "GPU available: True (cuda), used: True\n",
      "TPU available: False, using: 0 TPU cores\n",
      "HPU available: False, using: 0 HPUs\n",
      "LOCAL_RANK: 0 - CUDA_VISIBLE_DEVICES: [0]\n",
      "\n",
      "  | Name      | Type                        | Params | Mode \n",
      "------------------------------------------------------------------\n",
      "0 | model     | EncodingForecastingConvLSTM | 72.5 M | train\n",
      "1 | criterion | MSELoss                     | 0      | train\n",
      "------------------------------------------------------------------\n",
      "72.5 M    Trainable params\n",
      "0         Non-trainable params\n",
      "72.5 M    Total params\n",
      "290.023   Total estimated model params size (MB)\n",
      "19        Modules in train mode\n",
      "0         Modules in eval mode\n",
      "`Trainer.fit` stopped: `max_epochs=2` reached.\n",
      "[I 2025-06-08 00:55:22,864] Trial 1 finished with value: 43207.31640625 and parameters: {'learning_rate': 1.1578756551453663e-05, 'n_layers': 3, 'hidden_dim_size': 256, 'kernel_size': 5}. Best is trial 0 with value: 41951.36328125.\n"
     ]
    },
    {
     "name": "stdout",
     "output_type": "stream",
     "text": [
      "Pipeline: Optuna found best params: {'learning_rate': 6.834742316710666e-05, 'n_layers': 2, 'hidden_dim_size': 256, 'kernel_size': 3}\n"
     ]
    },
    {
     "name": "stderr",
     "output_type": "stream",
     "text": [
      "GPU available: True (cuda), used: True\n",
      "TPU available: False, using: 0 TPU cores\n",
      "HPU available: False, using: 0 HPUs\n",
      "C:\\Users\\peera\\AppData\\Roaming\\Python\\Python312\\site-packages\\pytorch_lightning\\callbacks\\model_checkpoint.py:654: Checkpoint directory C:\\Users\\peera\\Desktop\\DroughtLSTM_oneday\\models_saved\\SPEI_ConvLSTM_Multitask_Run exists and is not empty.\n",
      "LOCAL_RANK: 0 - CUDA_VISIBLE_DEVICES: [0]\n",
      "\n",
      "  | Name      | Type                        | Params | Mode \n",
      "------------------------------------------------------------------\n",
      "0 | model     | EncodingForecastingConvLSTM | 16.7 M | train\n",
      "1 | criterion | MSELoss                     | 0      | train\n",
      "------------------------------------------------------------------\n",
      "16.7 M    Trainable params\n",
      "0         Non-trainable params\n",
      "16.7 M    Total params\n",
      "66.669    Total estimated model params size (MB)\n",
      "15        Modules in train mode\n",
      "0         Modules in eval mode\n"
     ]
    },
    {
     "name": "stdout",
     "output_type": "stream",
     "text": [
      "Epoch 1: 100%|██████████| 89/89 [00:40<00:00,  2.18it/s]                   "
     ]
    },
    {
     "name": "stderr",
     "output_type": "stream",
     "text": [
      "`Trainer.fit` stopped: `max_epochs=2` reached.\n"
     ]
    },
    {
     "name": "stdout",
     "output_type": "stream",
     "text": [
      "Epoch 1: 100%|██████████| 89/89 [00:41<00:00,  2.12it/s]\n",
      "Pipeline: Final model training complete. Best model saved at: C:\\Users\\peera\\Desktop\\DroughtLSTM_oneday\\models_saved\\SPEI_ConvLSTM_Multitask_Run\\global-convlstm-multitask-best-v3.ckpt\n"
     ]
    },
    {
     "name": "stderr",
     "output_type": "stream",
     "text": [
      "LOCAL_RANK: 0 - CUDA_VISIBLE_DEVICES: [0]\n"
     ]
    },
    {
     "name": "stdout",
     "output_type": "stream",
     "text": [
      "\n",
      "--- Final Model Evaluation ---\n"
     ]
    },
    {
     "name": "stderr",
     "output_type": "stream",
     "text": [
      "C:\\Users\\peera\\AppData\\Roaming\\Python\\Python312\\site-packages\\pytorch_lightning\\trainer\\connectors\\data_connector.py:425: The 'predict_dataloader' does not have many workers which may be a bottleneck. Consider increasing the value of the `num_workers` argument` to `num_workers=19` in the `DataLoader` to improve performance.\n"
     ]
    },
    {
     "name": "stdout",
     "output_type": "stream",
     "text": [
      "Predicting DataLoader 0: 100%|██████████| 87/87 [00:12<00:00,  6.97it/s]\n"
     ]
    },
    {
     "name": "stderr",
     "output_type": "stream",
     "text": [
      "LOCAL_RANK: 0 - CUDA_VISIBLE_DEVICES: [0]\n"
     ]
    },
    {
     "name": "stdout",
     "output_type": "stream",
     "text": [
      "  Metrics for Train Set:\n",
      "    Target: pet -> RMSE=9806.0371, MAE=97.0153, R2=-23.0334\n",
      "    Target: pre -> RMSE=34679.2500, MAE=129.8370, R2=-0.8850\n"
     ]
    },
    {
     "name": "stderr",
     "output_type": "stream",
     "text": [
      "C:\\Users\\peera\\AppData\\Roaming\\Python\\Python312\\site-packages\\pytorch_lightning\\trainer\\connectors\\data_connector.py:425: The 'predict_dataloader' does not have many workers which may be a bottleneck. Consider increasing the value of the `num_workers` argument` to `num_workers=19` in the `DataLoader` to improve performance.\n"
     ]
    },
    {
     "name": "stdout",
     "output_type": "stream",
     "text": [
      "Predicting DataLoader 0: 100%|██████████| 2/2 [00:00<00:00,  9.48it/s]\n"
     ]
    },
    {
     "name": "stderr",
     "output_type": "stream",
     "text": [
      "LOCAL_RANK: 0 - CUDA_VISIBLE_DEVICES: [0]\n",
      "C:\\Users\\peera\\AppData\\Roaming\\Python\\Python312\\site-packages\\pytorch_lightning\\trainer\\connectors\\data_connector.py:425: The 'predict_dataloader' does not have many workers which may be a bottleneck. Consider increasing the value of the `num_workers` argument` to `num_workers=19` in the `DataLoader` to improve performance.\n"
     ]
    },
    {
     "name": "stdout",
     "output_type": "stream",
     "text": [
      "  Metrics for Validation Set:\n",
      "    Target: pet -> RMSE=10749.5547, MAE=101.6334, R2=-23.5972\n",
      "    Target: pre -> RMSE=31120.6504, MAE=119.2214, R2=-0.7882\n",
      "Predicting DataLoader 0: 100%|██████████| 2/2 [00:00<00:00,  9.85it/s]\n",
      "  Metrics for Test Set:\n",
      "    Target: pet -> RMSE=9778.3164, MAE=97.2760, R2=-28.8767\n",
      "    Target: pre -> RMSE=43091.2070, MAE=148.4337, R2=-1.0164\n",
      "Pipeline: Evaluation metrics saved to c:\\Users\\peera\\Desktop\\DroughtLSTM_oneday\\run_outputs\\SPEI_ConvLSTM_Multitask_Run\\global_convlstm_multitask_metrics.json\n",
      "\n",
      "Pipeline: Generating predictions on the full raw dataset...\n"
     ]
    },
    {
     "name": "stderr",
     "output_type": "stream",
     "text": [
      "GPU available: True (cuda), used: True\n",
      "TPU available: False, using: 0 TPU cores\n",
      "HPU available: False, using: 0 HPUs\n",
      "LOCAL_RANK: 0 - CUDA_VISIBLE_DEVICES: [0]\n",
      "C:\\Users\\peera\\AppData\\Roaming\\Python\\Python312\\site-packages\\pytorch_lightning\\trainer\\connectors\\data_connector.py:425: The 'predict_dataloader' does not have many workers which may be a bottleneck. Consider increasing the value of the `num_workers` argument` to `num_workers=19` in the `DataLoader` to improve performance.\n"
     ]
    },
    {
     "name": "stdout",
     "output_type": "stream",
     "text": [
      "Predicting DataLoader 0: 100%|██████████| 92/92 [00:12<00:00,  7.12it/s]\n",
      "Pipeline: Un-gridding predictions to create output CSV...\n"
     ]
    },
    {
     "name": "stderr",
     "output_type": "stream",
     "text": [
      "Un-gridding predictions: 100%|██████████| 1463/1463 [10:41<00:00,  2.28it/s]\n"
     ]
    },
    {
     "name": "stdout",
     "output_type": "stream",
     "text": [
      "Pipeline: Full data predictions saved to c:\\Users\\peera\\Desktop\\DroughtLSTM_oneday\\run_outputs\\SPEI_ConvLSTM_Multitask_Run\\global_convlstm_multitask_full_predictions.csv\n",
      "--- ConvLSTM Multitask Global Pipeline Run Finished ---\n",
      "\n",
      "--- ConvLSTM Multitask Pipeline Finished ---\n",
      "Final Model Performance:\n",
      "\n",
      "--- Metrics for TRAIN SET ---\n",
      "  Target: pet\n",
      "    RMSE: 9806.0371\n",
      "    MAE: 97.0153\n",
      "    R2: -23.0334\n",
      "  Target: pre\n",
      "    RMSE: 34679.2500\n",
      "    MAE: 129.8370\n",
      "    R2: -0.8850\n",
      "\n",
      "--- Metrics for VALIDATION SET ---\n",
      "  Target: pet\n",
      "    RMSE: 10749.5547\n",
      "    MAE: 101.6334\n",
      "    R2: -23.5972\n",
      "  Target: pre\n",
      "    RMSE: 31120.6504\n",
      "    MAE: 119.2214\n",
      "    R2: -0.7882\n",
      "\n",
      "--- Metrics for TEST SET ---\n",
      "  Target: pet\n",
      "    RMSE: 9778.3164\n",
      "    MAE: 97.2760\n",
      "    R2: -28.8767\n",
      "  Target: pre\n",
      "    RMSE: 43091.2070\n",
      "    MAE: 148.4337\n",
      "    R2: -1.0164\n"
     ]
    }
   ],
   "source": [
    "import sys\n",
    "import os\n",
    "import pandas as pd\n",
    "\n",
    "# Add project root to Python path to find the 'src' directory\n",
    "notebook_dir = os.getcwd()\n",
    "project_root = os.path.abspath(os.path.join(notebook_dir, '..'))\n",
    "if project_root not in sys.path:\n",
    "    sys.path.append(project_root)\n",
    "    print(f\"Added project root to sys.path: {project_root}\")\n",
    "\n",
    "# Import your new ConvLSTM Multitask pipeline class\n",
    "from src.convlstm_multitask_pipeline import ConvLSTMMultitaskPipeline\n",
    "# Point to your new ConvLSTM Multitask config file\n",
    "config_file = \"../config_ConvLSTM_Multitask.yaml\" \n",
    "\n",
    "# Create an instance of the pipeline\n",
    "pipeline = ConvLSTMMultitaskPipeline(config_path=config_file)\n",
    "\n",
    "# Execute the pipeline. This is the most computationally intensive run.\n",
    "# It will grid the data, tune hyperparameters, and train the final model.\n",
    "results = pipeline.run_pipeline()\n",
    "print(\"\\n--- ConvLSTM Multitask Pipeline Finished ---\")\n",
    "if isinstance(results, dict) and results:\n",
    "    print(\"Final Model Performance:\")\n",
    "    for split_name, metrics_by_target in results.items():\n",
    "        print(f\"\\n--- Metrics for {split_name.upper()} SET ---\")\n",
    "        if metrics_by_target:\n",
    "            for target_name, metrics in metrics_by_target.items():\n",
    "                print(f\"  Target: {target_name}\")\n",
    "                for metric_name, value in metrics.items():\n",
    "                    print(f\"    {metric_name.upper()}: {value:.4f}\")\n",
    "        else:\n",
    "            print(\"  Metrics not available for this split.\")\n",
    "else:\n",
    "    print(f\"Pipeline may have returned an error status or incomplete results: {results}\")"
   ]
  },
  {
   "cell_type": "code",
   "execution_count": null,
   "id": "f4efa5ed",
   "metadata": {},
   "outputs": [],
   "source": []
  }
 ],
 "metadata": {
  "kernelspec": {
   "display_name": "drought_lstm_base",
   "language": "python",
   "name": "python3"
  },
  "language_info": {
   "codemirror_mode": {
    "name": "ipython",
    "version": 3
   },
   "file_extension": ".py",
   "mimetype": "text/x-python",
   "name": "python",
   "nbconvert_exporter": "python",
   "pygments_lexer": "ipython3",
   "version": "3.12.7"
  }
 },
 "nbformat": 4,
 "nbformat_minor": 5
}
