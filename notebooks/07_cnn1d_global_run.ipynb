{
 "cells": [
  {
   "cell_type": "code",
   "execution_count": 1,
   "id": "bb1be87e",
   "metadata": {},
   "outputs": [
    {
     "name": "stdout",
     "output_type": "stream",
     "text": [
      "Added project root to sys.path: c:\\Users\\peera\\Desktop\\DroughtLSTM_oneday\n"
     ]
    },
    {
     "name": "stderr",
     "output_type": "stream",
     "text": [
      "c:\\Users\\peera\\.conda\\envs\\drought_lstm_base\\Lib\\site-packages\\tqdm\\auto.py:21: TqdmWarning: IProgress not found. Please update jupyter and ipywidgets. See https://ipywidgets.readthedocs.io/en/stable/user_install.html\n",
      "  from .autonotebook import tqdm as notebook_tqdm\n"
     ]
    },
    {
     "name": "stdout",
     "output_type": "stream",
     "text": [
      "PyTorch, PyTorch Lightning, and Optuna successfully imported.\n",
      "Warning: Could not import from data_utils_v1 for __main__ block. Ensure it's accessible.\n",
      "CNN1D Global Pipeline: Successfully imported utility functions.\n",
      "Configuration loaded from c:\\Users\\peera\\Desktop\\DroughtLSTM_oneday\\config_CNN1D_Global_SPEI.yaml\n",
      "Pipeline artifacts will be saved under 'c:\\Users\\peera\\Desktop\\DroughtLSTM_oneday\\run_outputs\\SPEI_CNN1D_Global_Run' and 'c:\\Users\\peera\\Desktop\\DroughtLSTM_oneday\\models_saved\\SPEI_CNN1D_Global_Run'\n",
      "\n",
      "--- Starting CNN1D PyTorch GLOBAL Pipeline ---\n",
      "Pipeline: Loading, sorting, and splitting data...\n",
      "Successfully loaded data from c:\\Users\\peera\\Desktop\\DroughtLSTM_oneday\\data\\full.csv. Shape: (264201, 19)\n",
      "Converted column 'time' to datetime.\n",
      "Data sorted by ['time', 'lat', 'lon'].\n",
      "Splitting data: Train ends 2017-12-31 00:00:00, Validation ends 2020-12-31 00:00:00\n",
      "Train set shape: (251313, 19), Time range: 1901-01-16 00:00:00 to 2017-12-16 00:00:00\n",
      "Validation set shape: (6444, 19), Time range: 2018-01-16 00:00:00 to 2020-12-16 00:00:00\n",
      "Test set shape: (6444, 19), Time range: 2021-01-16 00:00:00 to 2023-12-16 00:00:00\n",
      "Pipeline: Engineering features...\n",
      "  DEBUG (create_lagged_features for other loc): Input df shape (251313, 19), head:\n",
      "      lon   lat       time        tmp        dtr   cld        tmx        tmn  \\\n",
      "0  101.25  6.25 1901-01-16  25.300001   9.300000  62.5  30.000000  20.700000   \n",
      "1  101.25  6.25 1901-02-15  26.000000  10.500000  58.8  31.300001  20.800001   \n",
      "2  101.25  6.25 1901-03-16  26.600000  10.900001  60.0  32.100002  21.200000   \n",
      "\n",
      "         pre    wet        vap      spei    soi    dmi       pdo  nino4  \\\n",
      "0  84.600000  10.28  25.200000 -0.384595 -0.090 -0.540  1.114457   0.59   \n",
      "1  17.900000   4.24  25.800001 -1.361671  0.205 -0.868  0.872915   0.24   \n",
      "2  65.700005   6.81  26.900000 -0.830862  0.880 -0.720  0.439477   0.12   \n",
      "\n",
      "   nino34  nino3    pet  \n",
      "0    0.82   0.46  108.5  \n",
      "1    0.29   0.03  109.2  \n",
      "2    0.05  -0.25  124.0  \n"
     ]
    },
    {
     "name": "stderr",
     "output_type": "stream",
     "text": [
      "c:\\Users\\peera\\Desktop\\DroughtLSTM_oneday\\src\\feature_utils.py:45: PerformanceWarning: DataFrame is highly fragmented.  This is usually the result of calling `frame.insert` many times, which has poor performance.  Consider joining all columns at once using pd.concat(axis=1) instead. To get a de-fragmented frame, use `newframe = frame.copy()`\n",
      "  df_lagged[new_col_name] = df_lagged.groupby(group_by_cols, sort=False)[col_to_lag].shift(lag)\n",
      "c:\\Users\\peera\\Desktop\\DroughtLSTM_oneday\\src\\feature_utils.py:45: PerformanceWarning: DataFrame is highly fragmented.  This is usually the result of calling `frame.insert` many times, which has poor performance.  Consider joining all columns at once using pd.concat(axis=1) instead. To get a de-fragmented frame, use `newframe = frame.copy()`\n",
      "  df_lagged[new_col_name] = df_lagged.groupby(group_by_cols, sort=False)[col_to_lag].shift(lag)\n",
      "c:\\Users\\peera\\Desktop\\DroughtLSTM_oneday\\src\\feature_utils.py:45: PerformanceWarning: DataFrame is highly fragmented.  This is usually the result of calling `frame.insert` many times, which has poor performance.  Consider joining all columns at once using pd.concat(axis=1) instead. To get a de-fragmented frame, use `newframe = frame.copy()`\n",
      "  df_lagged[new_col_name] = df_lagged.groupby(group_by_cols, sort=False)[col_to_lag].shift(lag)\n",
      "c:\\Users\\peera\\Desktop\\DroughtLSTM_oneday\\src\\feature_utils.py:45: PerformanceWarning: DataFrame is highly fragmented.  This is usually the result of calling `frame.insert` many times, which has poor performance.  Consider joining all columns at once using pd.concat(axis=1) instead. To get a de-fragmented frame, use `newframe = frame.copy()`\n",
      "  df_lagged[new_col_name] = df_lagged.groupby(group_by_cols, sort=False)[col_to_lag].shift(lag)\n",
      "c:\\Users\\peera\\Desktop\\DroughtLSTM_oneday\\src\\feature_utils.py:45: PerformanceWarning: DataFrame is highly fragmented.  This is usually the result of calling `frame.insert` many times, which has poor performance.  Consider joining all columns at once using pd.concat(axis=1) instead. To get a de-fragmented frame, use `newframe = frame.copy()`\n",
      "  df_lagged[new_col_name] = df_lagged.groupby(group_by_cols, sort=False)[col_to_lag].shift(lag)\n",
      "c:\\Users\\peera\\Desktop\\DroughtLSTM_oneday\\src\\feature_utils.py:45: PerformanceWarning: DataFrame is highly fragmented.  This is usually the result of calling `frame.insert` many times, which has poor performance.  Consider joining all columns at once using pd.concat(axis=1) instead. To get a de-fragmented frame, use `newframe = frame.copy()`\n",
      "  df_lagged[new_col_name] = df_lagged.groupby(group_by_cols, sort=False)[col_to_lag].shift(lag)\n",
      "c:\\Users\\peera\\Desktop\\DroughtLSTM_oneday\\src\\feature_utils.py:45: PerformanceWarning: DataFrame is highly fragmented.  This is usually the result of calling `frame.insert` many times, which has poor performance.  Consider joining all columns at once using pd.concat(axis=1) instead. To get a de-fragmented frame, use `newframe = frame.copy()`\n",
      "  df_lagged[new_col_name] = df_lagged.groupby(group_by_cols, sort=False)[col_to_lag].shift(lag)\n",
      "c:\\Users\\peera\\Desktop\\DroughtLSTM_oneday\\src\\feature_utils.py:45: PerformanceWarning: DataFrame is highly fragmented.  This is usually the result of calling `frame.insert` many times, which has poor performance.  Consider joining all columns at once using pd.concat(axis=1) instead. To get a de-fragmented frame, use `newframe = frame.copy()`\n",
      "  df_lagged[new_col_name] = df_lagged.groupby(group_by_cols, sort=False)[col_to_lag].shift(lag)\n",
      "c:\\Users\\peera\\Desktop\\DroughtLSTM_oneday\\src\\feature_utils.py:45: PerformanceWarning: DataFrame is highly fragmented.  This is usually the result of calling `frame.insert` many times, which has poor performance.  Consider joining all columns at once using pd.concat(axis=1) instead. To get a de-fragmented frame, use `newframe = frame.copy()`\n",
      "  df_lagged[new_col_name] = df_lagged.groupby(group_by_cols, sort=False)[col_to_lag].shift(lag)\n",
      "c:\\Users\\peera\\Desktop\\DroughtLSTM_oneday\\src\\feature_utils.py:45: PerformanceWarning: DataFrame is highly fragmented.  This is usually the result of calling `frame.insert` many times, which has poor performance.  Consider joining all columns at once using pd.concat(axis=1) instead. To get a de-fragmented frame, use `newframe = frame.copy()`\n",
      "  df_lagged[new_col_name] = df_lagged.groupby(group_by_cols, sort=False)[col_to_lag].shift(lag)\n"
     ]
    },
    {
     "name": "stdout",
     "output_type": "stream",
     "text": [
      "Dropped 2148 rows due to NaNs after feature engineering (lags).\n",
      "  DEBUG (create_lagged_features for other loc): Input df shape (6444, 19), head:\n",
      "         lon   lat       time        tmp        dtr   cld        tmx   tmn  \\\n",
      "1404  101.25  6.25 2018-01-16  26.000000  10.800000  62.2  31.400000  20.6   \n",
      "1405  101.25  6.25 2018-02-15  26.300001  10.900001  58.8  31.800001  20.9   \n",
      "1406  101.25  6.25 2018-03-16  27.300001  11.200000  60.0  32.900000  21.7   \n",
      "\n",
      "             pre    wet        vap      spei    soi    dmi       pdo  nino4  \\\n",
      "1404  221.900010  18.35  24.800001  1.908856  0.915 -0.200  0.038453  -0.31   \n",
      "1405   82.500000   9.45  26.200000  1.103982 -0.731  0.215 -0.328776  -0.20   \n",
      "1406   46.600002   5.75  28.200000 -1.374192  1.028 -0.120 -0.778429  -0.09   \n",
      "\n",
      "      nino34  nino3    pet  \n",
      "1404   -0.86  -1.17  114.7  \n",
      "1405   -0.73  -0.77  109.2  \n",
      "1406   -0.73  -0.87  127.1  \n",
      "Dropped 2148 rows due to NaNs after feature engineering (lags).\n",
      "  DEBUG (create_lagged_features for other loc): Input df shape (6444, 19), head:\n",
      "         lon   lat       time   tmp        dtr        cld   tmx   tmn  \\\n",
      "1440  101.25  6.25 2021-01-16  25.6  10.100000  63.100002  30.7  20.6   \n",
      "1441  101.25  6.25 2021-02-15  26.7  12.100000  58.800000  32.8  20.7   \n",
      "1442  101.25  6.25 2021-03-16  27.6  12.400001  60.000000  33.8  21.4   \n",
      "\n",
      "             pre    wet        vap      spei    soi    dmi       pdo  nino4  \\\n",
      "1440  118.900000  14.13  25.300001  0.435771  1.640  0.051 -0.750839  -0.93   \n",
      "1441   12.200000   2.47  25.600000 -1.811856  1.017  0.243 -1.111553  -0.76   \n",
      "1442  115.700005   9.58  27.000000  0.155259 -0.197  0.266 -1.601515  -0.53   \n",
      "\n",
      "      nino34  nino3    pet  \n",
      "1440   -1.04  -0.80  108.5  \n",
      "1441   -0.94  -0.80  114.8  \n",
      "1442   -0.72  -0.64  133.3  \n",
      "Dropped 2148 rows due to NaNs after feature engineering (lags).\n",
      "Pipeline: Scaling data...\n",
      "Columns to be scaled using robust scaler: ['spei', 'lat', 'lon', 'tmp', 'dtr', 'cld', 'tmx', 'tmn', 'wet', 'vap', 'soi', 'dmi', 'pdo', 'nino4', 'nino34', 'nino3', 'pre', 'pet']\n"
     ]
    },
    {
     "name": "stderr",
     "output_type": "stream",
     "text": [
      "c:\\Users\\peera\\Desktop\\DroughtLSTM_oneday\\src\\feature_utils.py:45: PerformanceWarning: DataFrame is highly fragmented.  This is usually the result of calling `frame.insert` many times, which has poor performance.  Consider joining all columns at once using pd.concat(axis=1) instead. To get a de-fragmented frame, use `newframe = frame.copy()`\n",
      "  df_lagged[new_col_name] = df_lagged.groupby(group_by_cols, sort=False)[col_to_lag].shift(lag)\n",
      "c:\\Users\\peera\\Desktop\\DroughtLSTM_oneday\\src\\feature_utils.py:45: PerformanceWarning: DataFrame is highly fragmented.  This is usually the result of calling `frame.insert` many times, which has poor performance.  Consider joining all columns at once using pd.concat(axis=1) instead. To get a de-fragmented frame, use `newframe = frame.copy()`\n",
      "  df_lagged[new_col_name] = df_lagged.groupby(group_by_cols, sort=False)[col_to_lag].shift(lag)\n",
      "c:\\Users\\peera\\Desktop\\DroughtLSTM_oneday\\src\\feature_utils.py:45: PerformanceWarning: DataFrame is highly fragmented.  This is usually the result of calling `frame.insert` many times, which has poor performance.  Consider joining all columns at once using pd.concat(axis=1) instead. To get a de-fragmented frame, use `newframe = frame.copy()`\n",
      "  df_lagged[new_col_name] = df_lagged.groupby(group_by_cols, sort=False)[col_to_lag].shift(lag)\n",
      "c:\\Users\\peera\\Desktop\\DroughtLSTM_oneday\\src\\feature_utils.py:45: PerformanceWarning: DataFrame is highly fragmented.  This is usually the result of calling `frame.insert` many times, which has poor performance.  Consider joining all columns at once using pd.concat(axis=1) instead. To get a de-fragmented frame, use `newframe = frame.copy()`\n",
      "  df_lagged[new_col_name] = df_lagged.groupby(group_by_cols, sort=False)[col_to_lag].shift(lag)\n",
      "c:\\Users\\peera\\Desktop\\DroughtLSTM_oneday\\src\\feature_utils.py:45: PerformanceWarning: DataFrame is highly fragmented.  This is usually the result of calling `frame.insert` many times, which has poor performance.  Consider joining all columns at once using pd.concat(axis=1) instead. To get a de-fragmented frame, use `newframe = frame.copy()`\n",
      "  df_lagged[new_col_name] = df_lagged.groupby(group_by_cols, sort=False)[col_to_lag].shift(lag)\n",
      "c:\\Users\\peera\\Desktop\\DroughtLSTM_oneday\\src\\feature_utils.py:45: PerformanceWarning: DataFrame is highly fragmented.  This is usually the result of calling `frame.insert` many times, which has poor performance.  Consider joining all columns at once using pd.concat(axis=1) instead. To get a de-fragmented frame, use `newframe = frame.copy()`\n",
      "  df_lagged[new_col_name] = df_lagged.groupby(group_by_cols, sort=False)[col_to_lag].shift(lag)\n",
      "c:\\Users\\peera\\Desktop\\DroughtLSTM_oneday\\src\\feature_utils.py:45: PerformanceWarning: DataFrame is highly fragmented.  This is usually the result of calling `frame.insert` many times, which has poor performance.  Consider joining all columns at once using pd.concat(axis=1) instead. To get a de-fragmented frame, use `newframe = frame.copy()`\n",
      "  df_lagged[new_col_name] = df_lagged.groupby(group_by_cols, sort=False)[col_to_lag].shift(lag)\n",
      "c:\\Users\\peera\\Desktop\\DroughtLSTM_oneday\\src\\feature_utils.py:45: PerformanceWarning: DataFrame is highly fragmented.  This is usually the result of calling `frame.insert` many times, which has poor performance.  Consider joining all columns at once using pd.concat(axis=1) instead. To get a de-fragmented frame, use `newframe = frame.copy()`\n",
      "  df_lagged[new_col_name] = df_lagged.groupby(group_by_cols, sort=False)[col_to_lag].shift(lag)\n",
      "c:\\Users\\peera\\Desktop\\DroughtLSTM_oneday\\src\\feature_utils.py:45: PerformanceWarning: DataFrame is highly fragmented.  This is usually the result of calling `frame.insert` many times, which has poor performance.  Consider joining all columns at once using pd.concat(axis=1) instead. To get a de-fragmented frame, use `newframe = frame.copy()`\n",
      "  df_lagged[new_col_name] = df_lagged.groupby(group_by_cols, sort=False)[col_to_lag].shift(lag)\n",
      "c:\\Users\\peera\\Desktop\\DroughtLSTM_oneday\\src\\feature_utils.py:45: PerformanceWarning: DataFrame is highly fragmented.  This is usually the result of calling `frame.insert` many times, which has poor performance.  Consider joining all columns at once using pd.concat(axis=1) instead. To get a de-fragmented frame, use `newframe = frame.copy()`\n",
      "  df_lagged[new_col_name] = df_lagged.groupby(group_by_cols, sort=False)[col_to_lag].shift(lag)\n",
      "c:\\Users\\peera\\Desktop\\DroughtLSTM_oneday\\src\\feature_utils.py:45: PerformanceWarning: DataFrame is highly fragmented.  This is usually the result of calling `frame.insert` many times, which has poor performance.  Consider joining all columns at once using pd.concat(axis=1) instead. To get a de-fragmented frame, use `newframe = frame.copy()`\n",
      "  df_lagged[new_col_name] = df_lagged.groupby(group_by_cols, sort=False)[col_to_lag].shift(lag)\n",
      "c:\\Users\\peera\\Desktop\\DroughtLSTM_oneday\\src\\feature_utils.py:45: PerformanceWarning: DataFrame is highly fragmented.  This is usually the result of calling `frame.insert` many times, which has poor performance.  Consider joining all columns at once using pd.concat(axis=1) instead. To get a de-fragmented frame, use `newframe = frame.copy()`\n",
      "  df_lagged[new_col_name] = df_lagged.groupby(group_by_cols, sort=False)[col_to_lag].shift(lag)\n",
      "c:\\Users\\peera\\Desktop\\DroughtLSTM_oneday\\src\\feature_utils.py:45: PerformanceWarning: DataFrame is highly fragmented.  This is usually the result of calling `frame.insert` many times, which has poor performance.  Consider joining all columns at once using pd.concat(axis=1) instead. To get a de-fragmented frame, use `newframe = frame.copy()`\n",
      "  df_lagged[new_col_name] = df_lagged.groupby(group_by_cols, sort=False)[col_to_lag].shift(lag)\n",
      "c:\\Users\\peera\\Desktop\\DroughtLSTM_oneday\\src\\feature_utils.py:45: PerformanceWarning: DataFrame is highly fragmented.  This is usually the result of calling `frame.insert` many times, which has poor performance.  Consider joining all columns at once using pd.concat(axis=1) instead. To get a de-fragmented frame, use `newframe = frame.copy()`\n",
      "  df_lagged[new_col_name] = df_lagged.groupby(group_by_cols, sort=False)[col_to_lag].shift(lag)\n",
      "c:\\Users\\peera\\Desktop\\DroughtLSTM_oneday\\src\\feature_utils.py:45: PerformanceWarning: DataFrame is highly fragmented.  This is usually the result of calling `frame.insert` many times, which has poor performance.  Consider joining all columns at once using pd.concat(axis=1) instead. To get a de-fragmented frame, use `newframe = frame.copy()`\n",
      "  df_lagged[new_col_name] = df_lagged.groupby(group_by_cols, sort=False)[col_to_lag].shift(lag)\n",
      "c:\\Users\\peera\\Desktop\\DroughtLSTM_oneday\\src\\feature_utils.py:45: PerformanceWarning: DataFrame is highly fragmented.  This is usually the result of calling `frame.insert` many times, which has poor performance.  Consider joining all columns at once using pd.concat(axis=1) instead. To get a de-fragmented frame, use `newframe = frame.copy()`\n",
      "  df_lagged[new_col_name] = df_lagged.groupby(group_by_cols, sort=False)[col_to_lag].shift(lag)\n",
      "c:\\Users\\peera\\Desktop\\DroughtLSTM_oneday\\src\\feature_utils.py:45: PerformanceWarning: DataFrame is highly fragmented.  This is usually the result of calling `frame.insert` many times, which has poor performance.  Consider joining all columns at once using pd.concat(axis=1) instead. To get a de-fragmented frame, use `newframe = frame.copy()`\n",
      "  df_lagged[new_col_name] = df_lagged.groupby(group_by_cols, sort=False)[col_to_lag].shift(lag)\n",
      "c:\\Users\\peera\\Desktop\\DroughtLSTM_oneday\\src\\feature_utils.py:45: PerformanceWarning: DataFrame is highly fragmented.  This is usually the result of calling `frame.insert` many times, which has poor performance.  Consider joining all columns at once using pd.concat(axis=1) instead. To get a de-fragmented frame, use `newframe = frame.copy()`\n",
      "  df_lagged[new_col_name] = df_lagged.groupby(group_by_cols, sort=False)[col_to_lag].shift(lag)\n",
      "c:\\Users\\peera\\Desktop\\DroughtLSTM_oneday\\src\\feature_utils.py:45: PerformanceWarning: DataFrame is highly fragmented.  This is usually the result of calling `frame.insert` many times, which has poor performance.  Consider joining all columns at once using pd.concat(axis=1) instead. To get a de-fragmented frame, use `newframe = frame.copy()`\n",
      "  df_lagged[new_col_name] = df_lagged.groupby(group_by_cols, sort=False)[col_to_lag].shift(lag)\n",
      "c:\\Users\\peera\\Desktop\\DroughtLSTM_oneday\\src\\feature_utils.py:45: PerformanceWarning: DataFrame is highly fragmented.  This is usually the result of calling `frame.insert` many times, which has poor performance.  Consider joining all columns at once using pd.concat(axis=1) instead. To get a de-fragmented frame, use `newframe = frame.copy()`\n",
      "  df_lagged[new_col_name] = df_lagged.groupby(group_by_cols, sort=False)[col_to_lag].shift(lag)\n"
     ]
    },
    {
     "name": "stdout",
     "output_type": "stream",
     "text": [
      "Data scaling complete.\n",
      "Pipeline: Creating Datasets and DataLoaders...\n"
     ]
    },
    {
     "name": "stderr",
     "output_type": "stream",
     "text": [
      "[I 2025-06-06 22:01:13,877] A new study created in memory with name: no-name-8c4ee801-9dda-45c8-a922-256f5009dbb9\n",
      "GPU available: True (cuda), used: True\n",
      "TPU available: False, using: 0 TPU cores\n",
      "HPU available: False, using: 0 HPUs\n",
      "You are using a CUDA device ('NVIDIA GeForce RTX 4060 Laptop GPU') that has Tensor Cores. To properly utilize them, you should set `torch.set_float32_matmul_precision('medium' | 'high')` which will trade-off precision for performance. For more details, read https://pytorch.org/docs/stable/generated/torch.set_float32_matmul_precision.html#torch.set_float32_matmul_precision\n",
      "LOCAL_RANK: 0 - CUDA_VISIBLE_DEVICES: [0]\n"
     ]
    },
    {
     "name": "stdout",
     "output_type": "stream",
     "text": [
      "Pipeline: Starting Optuna for 1 trials... (Model input_size will be 15)\n"
     ]
    },
    {
     "name": "stderr",
     "output_type": "stream",
     "text": [
      "\n",
      "  | Name      | Type           | Params | Mode \n",
      "-----------------------------------------------------\n",
      "0 | model     | CNN1DRegressor | 7.7 K  | train\n",
      "1 | criterion | MSELoss        | 0      | train\n",
      "-----------------------------------------------------\n",
      "7.7 K     Trainable params\n",
      "0         Non-trainable params\n",
      "7.7 K     Total params\n",
      "0.031     Total estimated model params size (MB)\n",
      "11        Modules in train mode\n",
      "0         Modules in eval mode\n",
      "C:\\Users\\peera\\AppData\\Roaming\\Python\\Python312\\site-packages\\pytorch_lightning\\trainer\\connectors\\data_connector.py:425: The 'val_dataloader' does not have many workers which may be a bottleneck. Consider increasing the value of the `num_workers` argument` to `num_workers=19` in the `DataLoader` to improve performance.\n",
      "C:\\Users\\peera\\AppData\\Roaming\\Python\\Python312\\site-packages\\pytorch_lightning\\trainer\\connectors\\data_connector.py:425: The 'train_dataloader' does not have many workers which may be a bottleneck. Consider increasing the value of the `num_workers` argument` to `num_workers=19` in the `DataLoader` to improve performance.\n",
      "C:\\Users\\peera\\AppData\\Roaming\\Python\\Python312\\site-packages\\optuna\\trial\\_trial.py:497: UserWarning: The reported value is ignored because this `step` 0 is already reported.\n",
      "  warnings.warn(\n",
      "`Trainer.fit` stopped: `max_epochs=2` reached.\n",
      "[I 2025-06-06 22:01:26,724] Trial 0 finished with value: 0.7154815793037415 and parameters: {'learning_rate': 0.0050733956444238, 'n_conv_layers': 3, 'out_channels_power': 5, 'kernel_size': 3, 'dropout_rate': 0.2495721284616188}. Best is trial 0 with value: 0.7154815793037415.\n",
      "GPU available: True (cuda), used: True\n",
      "TPU available: False, using: 0 TPU cores\n",
      "HPU available: False, using: 0 HPUs\n",
      "C:\\Users\\peera\\AppData\\Roaming\\Python\\Python312\\site-packages\\pytorch_lightning\\callbacks\\model_checkpoint.py:654: Checkpoint directory C:\\Users\\peera\\Desktop\\DroughtLSTM_oneday\\models_saved\\SPEI_CNN1D_Global_Run exists and is not empty.\n",
      "LOCAL_RANK: 0 - CUDA_VISIBLE_DEVICES: [0]\n",
      "\n",
      "  | Name      | Type           | Params | Mode \n",
      "-----------------------------------------------------\n",
      "0 | model     | CNN1DRegressor | 7.7 K  | train\n",
      "1 | criterion | MSELoss        | 0      | train\n",
      "-----------------------------------------------------\n",
      "7.7 K     Trainable params\n",
      "0         Non-trainable params\n",
      "7.7 K     Total params\n",
      "0.031     Total estimated model params size (MB)\n",
      "11        Modules in train mode\n",
      "0         Modules in eval mode\n"
     ]
    },
    {
     "name": "stdout",
     "output_type": "stream",
     "text": [
      "Pipeline: Optuna found best params: {'learning_rate': 0.0050733956444238, 'n_conv_layers': 3, 'out_channels_power': 5, 'kernel_size': 3, 'dropout_rate': 0.2495721284616188}\n",
      "Pipeline: Training final model...\n",
      "Epoch 1: 100%|██████████| 974/974 [00:07<00:00, 136.84it/s, val_loss=0.203] "
     ]
    },
    {
     "name": "stderr",
     "output_type": "stream",
     "text": [
      "`Trainer.fit` stopped: `max_epochs=2` reached.\n"
     ]
    },
    {
     "name": "stdout",
     "output_type": "stream",
     "text": [
      "Epoch 1: 100%|██████████| 974/974 [00:07<00:00, 136.62it/s, val_loss=0.203]\n",
      "Pipeline: Final model training complete. Best model saved at: C:\\Users\\peera\\Desktop\\DroughtLSTM_oneday\\models_saved\\SPEI_CNN1D_Global_Run\\global-cnn1d-best-model-v1.ckpt\n"
     ]
    },
    {
     "name": "stderr",
     "output_type": "stream",
     "text": [
      "LOCAL_RANK: 0 - CUDA_VISIBLE_DEVICES: [0]\n",
      "C:\\Users\\peera\\AppData\\Roaming\\Python\\Python312\\site-packages\\pytorch_lightning\\trainer\\connectors\\data_connector.py:476: Your `predict_dataloader`'s sampler has shuffling enabled, it is strongly recommended that you turn shuffling off for val/test dataloaders.\n",
      "C:\\Users\\peera\\AppData\\Roaming\\Python\\Python312\\site-packages\\pytorch_lightning\\trainer\\connectors\\data_connector.py:425: The 'predict_dataloader' does not have many workers which may be a bottleneck. Consider increasing the value of the `num_workers` argument` to `num_workers=19` in the `DataLoader` to improve performance.\n"
     ]
    },
    {
     "name": "stdout",
     "output_type": "stream",
     "text": [
      "\n",
      "--- Final Model Evaluation ---\n",
      "Predicting DataLoader 0: 100%|██████████| 965/965 [00:03<00:00, 241.67it/s]\n"
     ]
    },
    {
     "name": "stderr",
     "output_type": "stream",
     "text": [
      "LOCAL_RANK: 0 - CUDA_VISIBLE_DEVICES: [0]\n",
      "C:\\Users\\peera\\AppData\\Roaming\\Python\\Python312\\site-packages\\pytorch_lightning\\trainer\\connectors\\data_connector.py:425: The 'predict_dataloader' does not have many workers which may be a bottleneck. Consider increasing the value of the `num_workers` argument` to `num_workers=19` in the `DataLoader` to improve performance.\n"
     ]
    },
    {
     "name": "stdout",
     "output_type": "stream",
     "text": [
      "  Train Set: RMSE=1.4997, MAE=0.9872, R2=-0.5192\n",
      "Predicting DataLoader 0: 100%|██████████| 9/9 [00:00<00:00, 317.97it/s]"
     ]
    },
    {
     "name": "stderr",
     "output_type": "stream",
     "text": [
      "LOCAL_RANK: 0 - CUDA_VISIBLE_DEVICES: [0]\n",
      "C:\\Users\\peera\\AppData\\Roaming\\Python\\Python312\\site-packages\\pytorch_lightning\\trainer\\connectors\\data_connector.py:425: The 'predict_dataloader' does not have many workers which may be a bottleneck. Consider increasing the value of the `num_workers` argument` to `num_workers=19` in the `DataLoader` to improve performance.\n"
     ]
    },
    {
     "name": "stdout",
     "output_type": "stream",
     "text": [
      "\n",
      "  Validation Set: RMSE=1.6334, MAE=1.0025, R2=-1.0651\n",
      "Predicting DataLoader 0: 100%|██████████| 9/9 [00:00<00:00, 290.19it/s]\n",
      "  Test Set: RMSE=1.6912, MAE=1.0672, R2=-1.2558\n",
      "Pipeline: Evaluation metrics saved.\n",
      "Scaler saved to c:\\Users\\peera\\Desktop\\DroughtLSTM_oneday\\models_saved\\SPEI_CNN1D_Global_Run\\global_robust_scaler_cnn1d.joblib\n",
      "Pipeline: Global scaler saved.\n",
      "\n",
      "Pipeline: Generating predictions on the full raw dataset...\n",
      "  DEBUG (create_lagged_features for other loc): Input df shape (264201, 19), head:\n",
      "      lon   lat       time        tmp        dtr   cld        tmx        tmn  \\\n",
      "0  101.25  6.25 1901-01-16  25.300001   9.300000  62.5  30.000000  20.700000   \n",
      "1  101.25  6.25 1901-02-15  26.000000  10.500000  58.8  31.300001  20.800001   \n",
      "2  101.25  6.25 1901-03-16  26.600000  10.900001  60.0  32.100002  21.200000   \n",
      "\n",
      "         pre    wet        vap      spei    soi    dmi       pdo  nino4  \\\n",
      "0  84.600000  10.28  25.200000 -0.384595 -0.090 -0.540  1.114457   0.59   \n",
      "1  17.900000   4.24  25.800001 -1.361671  0.205 -0.868  0.872915   0.24   \n",
      "2  65.700005   6.81  26.900000 -0.830862  0.880 -0.720  0.439477   0.12   \n",
      "\n",
      "   nino34  nino3    pet  \n",
      "0    0.82   0.46  108.5  \n",
      "1    0.29   0.03  109.2  \n",
      "2    0.05  -0.25  124.0  \n"
     ]
    },
    {
     "name": "stderr",
     "output_type": "stream",
     "text": [
      "c:\\Users\\peera\\Desktop\\DroughtLSTM_oneday\\src\\feature_utils.py:45: PerformanceWarning: DataFrame is highly fragmented.  This is usually the result of calling `frame.insert` many times, which has poor performance.  Consider joining all columns at once using pd.concat(axis=1) instead. To get a de-fragmented frame, use `newframe = frame.copy()`\n",
      "  df_lagged[new_col_name] = df_lagged.groupby(group_by_cols, sort=False)[col_to_lag].shift(lag)\n",
      "c:\\Users\\peera\\Desktop\\DroughtLSTM_oneday\\src\\feature_utils.py:45: PerformanceWarning: DataFrame is highly fragmented.  This is usually the result of calling `frame.insert` many times, which has poor performance.  Consider joining all columns at once using pd.concat(axis=1) instead. To get a de-fragmented frame, use `newframe = frame.copy()`\n",
      "  df_lagged[new_col_name] = df_lagged.groupby(group_by_cols, sort=False)[col_to_lag].shift(lag)\n",
      "c:\\Users\\peera\\Desktop\\DroughtLSTM_oneday\\src\\feature_utils.py:45: PerformanceWarning: DataFrame is highly fragmented.  This is usually the result of calling `frame.insert` many times, which has poor performance.  Consider joining all columns at once using pd.concat(axis=1) instead. To get a de-fragmented frame, use `newframe = frame.copy()`\n",
      "  df_lagged[new_col_name] = df_lagged.groupby(group_by_cols, sort=False)[col_to_lag].shift(lag)\n",
      "c:\\Users\\peera\\Desktop\\DroughtLSTM_oneday\\src\\feature_utils.py:45: PerformanceWarning: DataFrame is highly fragmented.  This is usually the result of calling `frame.insert` many times, which has poor performance.  Consider joining all columns at once using pd.concat(axis=1) instead. To get a de-fragmented frame, use `newframe = frame.copy()`\n",
      "  df_lagged[new_col_name] = df_lagged.groupby(group_by_cols, sort=False)[col_to_lag].shift(lag)\n",
      "c:\\Users\\peera\\Desktop\\DroughtLSTM_oneday\\src\\feature_utils.py:45: PerformanceWarning: DataFrame is highly fragmented.  This is usually the result of calling `frame.insert` many times, which has poor performance.  Consider joining all columns at once using pd.concat(axis=1) instead. To get a de-fragmented frame, use `newframe = frame.copy()`\n",
      "  df_lagged[new_col_name] = df_lagged.groupby(group_by_cols, sort=False)[col_to_lag].shift(lag)\n",
      "c:\\Users\\peera\\Desktop\\DroughtLSTM_oneday\\src\\feature_utils.py:45: PerformanceWarning: DataFrame is highly fragmented.  This is usually the result of calling `frame.insert` many times, which has poor performance.  Consider joining all columns at once using pd.concat(axis=1) instead. To get a de-fragmented frame, use `newframe = frame.copy()`\n",
      "  df_lagged[new_col_name] = df_lagged.groupby(group_by_cols, sort=False)[col_to_lag].shift(lag)\n",
      "c:\\Users\\peera\\Desktop\\DroughtLSTM_oneday\\src\\feature_utils.py:45: PerformanceWarning: DataFrame is highly fragmented.  This is usually the result of calling `frame.insert` many times, which has poor performance.  Consider joining all columns at once using pd.concat(axis=1) instead. To get a de-fragmented frame, use `newframe = frame.copy()`\n",
      "  df_lagged[new_col_name] = df_lagged.groupby(group_by_cols, sort=False)[col_to_lag].shift(lag)\n",
      "c:\\Users\\peera\\Desktop\\DroughtLSTM_oneday\\src\\feature_utils.py:45: PerformanceWarning: DataFrame is highly fragmented.  This is usually the result of calling `frame.insert` many times, which has poor performance.  Consider joining all columns at once using pd.concat(axis=1) instead. To get a de-fragmented frame, use `newframe = frame.copy()`\n",
      "  df_lagged[new_col_name] = df_lagged.groupby(group_by_cols, sort=False)[col_to_lag].shift(lag)\n",
      "c:\\Users\\peera\\Desktop\\DroughtLSTM_oneday\\src\\feature_utils.py:45: PerformanceWarning: DataFrame is highly fragmented.  This is usually the result of calling `frame.insert` many times, which has poor performance.  Consider joining all columns at once using pd.concat(axis=1) instead. To get a de-fragmented frame, use `newframe = frame.copy()`\n",
      "  df_lagged[new_col_name] = df_lagged.groupby(group_by_cols, sort=False)[col_to_lag].shift(lag)\n",
      "c:\\Users\\peera\\Desktop\\DroughtLSTM_oneday\\src\\feature_utils.py:45: PerformanceWarning: DataFrame is highly fragmented.  This is usually the result of calling `frame.insert` many times, which has poor performance.  Consider joining all columns at once using pd.concat(axis=1) instead. To get a de-fragmented frame, use `newframe = frame.copy()`\n",
      "  df_lagged[new_col_name] = df_lagged.groupby(group_by_cols, sort=False)[col_to_lag].shift(lag)\n"
     ]
    },
    {
     "name": "stdout",
     "output_type": "stream",
     "text": [
      "Dropped 2148 rows due to NaNs after feature engineering (lags).\n"
     ]
    },
    {
     "name": "stderr",
     "output_type": "stream",
     "text": [
      "GPU available: True (cuda), used: True\n",
      "TPU available: False, using: 0 TPU cores\n",
      "HPU available: False, using: 0 HPUs\n",
      "LOCAL_RANK: 0 - CUDA_VISIBLE_DEVICES: [0]\n",
      "C:\\Users\\peera\\AppData\\Roaming\\Python\\Python312\\site-packages\\pytorch_lightning\\trainer\\connectors\\data_connector.py:425: The 'predict_dataloader' does not have many workers which may be a bottleneck. Consider increasing the value of the `num_workers` argument` to `num_workers=19` in the `DataLoader` to improve performance.\n"
     ]
    },
    {
     "name": "stdout",
     "output_type": "stream",
     "text": [
      "Predicting DataLoader 0: 100%|██████████| 1016/1016 [00:04<00:00, 218.22it/s]\n",
      "Pipeline: Full data predictions saved to c:\\Users\\peera\\Desktop\\DroughtLSTM_oneday\\run_outputs\\SPEI_CNN1D_Global_Run\\global_cnn1d_full_predictions.csv\n",
      "--- CNN1D Global Pipeline Run Finished ---\n",
      "\n",
      "--- CNN1D Global Pipeline Finished ---\n",
      "Final Model Performance:\n",
      "\n",
      "Metrics for train set:\n",
      "  RMSE: 1.4997\n",
      "  MAE: 0.9872\n",
      "  R2: -0.5192\n",
      "\n",
      "Metrics for validation set:\n",
      "  RMSE: 1.6334\n",
      "  MAE: 1.0025\n",
      "  R2: -1.0651\n",
      "\n",
      "Metrics for test set:\n",
      "  RMSE: 1.6912\n",
      "  MAE: 1.0672\n",
      "  R2: -1.2558\n"
     ]
    }
   ],
   "source": [
    "import sys\n",
    "import os\n",
    "import pandas as pd\n",
    "import numpy as np\n",
    "\n",
    "# Add project root to Python path to find the 'src' directory\n",
    "notebook_dir = os.getcwd()\n",
    "project_root = os.path.abspath(os.path.join(notebook_dir, '..'))\n",
    "if project_root not in sys.path:\n",
    "    sys.path.append(project_root)\n",
    "    print(f\"Added project root to sys.path: {project_root}\")\n",
    "\n",
    "# Import your new CNN1D pipeline class\n",
    "from src.cnn1d_pytorch_pipeline_global import CNN1DGlobalPipeline\n",
    "# Point to your new CNN1D-specific config file\n",
    "config_file = \"../config_CNN1D_Global_SPEI.yaml\" \n",
    "\n",
    "# Create an instance of the pipeline\n",
    "pipeline = CNN1DGlobalPipeline(config_path=config_file)\n",
    "\n",
    "# Execute the pipeline. This will be a single, long run.\n",
    "# It will perform data loading, feature engineering, scaling, hyperparameter tuning,\n",
    "# final model training, and evaluation.\n",
    "results = pipeline.run_pipeline()\n",
    "print(\"\\n--- CNN1D Global Pipeline Finished ---\")\n",
    "if isinstance(results, dict) and results:\n",
    "    print(\"Final Model Performance:\")\n",
    "    for split_name, metrics in results.items():\n",
    "        print(f\"\\nMetrics for {split_name} set:\")\n",
    "        if metrics:\n",
    "            for metric_name, value in metrics.items():\n",
    "                print(f\"  {metric_name.upper()}: {value:.4f}\")\n",
    "        else:\n",
    "            print(\"  Metrics not available for this split.\")\n",
    "else:\n",
    "    print(f\"Pipeline may have returned an error status or incomplete results: {results}\")"
   ]
  },
  {
   "cell_type": "code",
   "execution_count": null,
   "id": "99249c87",
   "metadata": {},
   "outputs": [],
   "source": []
  }
 ],
 "metadata": {
  "kernelspec": {
   "display_name": "drought_lstm_base",
   "language": "python",
   "name": "python3"
  },
  "language_info": {
   "codemirror_mode": {
    "name": "ipython",
    "version": 3
   },
   "file_extension": ".py",
   "mimetype": "text/x-python",
   "name": "python",
   "nbconvert_exporter": "python",
   "pygments_lexer": "ipython3",
   "version": "3.12.7"
  }
 },
 "nbformat": 4,
 "nbformat_minor": 5
}
