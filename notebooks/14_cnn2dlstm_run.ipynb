{
 "cells": [
  {
   "cell_type": "code",
   "execution_count": 1,
   "id": "2ed47ad4",
   "metadata": {},
   "outputs": [
    {
     "name": "stdout",
     "output_type": "stream",
     "text": [
      "Added project root to sys.path: c:\\Users\\peera\\Desktop\\DroughtLSTM_oneday\n"
     ]
    },
    {
     "name": "stderr",
     "output_type": "stream",
     "text": [
      "c:\\Users\\peera\\.conda\\envs\\drought_lstm_base\\Lib\\site-packages\\tqdm\\auto.py:21: TqdmWarning: IProgress not found. Please update jupyter and ipywidgets. See https://ipywidgets.readthedocs.io/en/stable/user_install.html\n",
      "  from .autonotebook import tqdm as notebook_tqdm\n"
     ]
    },
    {
     "name": "stdout",
     "output_type": "stream",
     "text": [
      "PyTorch, PyTorch Lightning, and Optuna successfully imported.\n",
      "ConvLSTM Pipeline: Successfully imported utility functions.\n"
     ]
    },
    {
     "name": "stderr",
     "output_type": "stream",
     "text": [
      "c:\\Users\\peera\\.conda\\envs\\drought_lstm_base\\Lib\\site-packages\\google\\protobuf\\runtime_version.py:98: UserWarning: Protobuf gencode version 5.28.1 is exactly one major version older than the runtime version 6.31.1 at api.proto. Please update the gencode to avoid compatibility violations in the next runtime release.\n",
      "  warnings.warn(\n"
     ]
    }
   ],
   "source": [
    "import sys\n",
    "import os\n",
    "import pandas as pd\n",
    "\n",
    "# Add project root to Python path to find the 'src' directory\n",
    "notebook_dir = os.getcwd()\n",
    "project_root = os.path.abspath(os.path.join(notebook_dir, '..'))\n",
    "if project_root not in sys.path:\n",
    "    sys.path.append(project_root)\n",
    "    print(f\"Added project root to sys.path: {project_root}\")\n",
    "\n",
    "# Import your new ConvLSTM pipeline class\n",
    "from src.improved_convlstm_multitask_pipeline import MultitaskConvLSTMPipeline"
   ]
  },
  {
   "cell_type": "code",
   "execution_count": 2,
   "id": "1dcc7c64",
   "metadata": {},
   "outputs": [
    {
     "name": "stdout",
     "output_type": "stream",
     "text": [
      "Warning: Could not import from data_utils_v1 for __main__ block. Ensure it's accessible.\n",
      "Configuration loaded from ../config/cnn2dlstm/config_cnn2dlstm_TEST.yaml\n",
      "Successfully loaded data from c:\\Users\\peera\\Desktop\\DroughtLSTM_oneday\\data\\full.csv. Shape: (264204, 19)\n",
      "Converted column 'time' to datetime.\n",
      "Data sorted by ['time', 'lat', 'lon'].\n",
      "Splitting data: Train ends 2017-12-31 00:00:00, Validation ends 2020-12-31 00:00:00\n",
      "Train set shape: (251316, 19), Time range: 1901-01-16 00:00:00 to 2017-12-16 00:00:00\n",
      "Validation set shape: (6444, 19), Time range: 2018-01-16 00:00:00 to 2020-12-16 00:00:00\n",
      "Test set shape: (6444, 19), Time range: 2021-01-16 00:00:00 to 2023-12-16 00:00:00\n",
      "Columns to be scaled using robust scaler: ['pre', 'tmp', 'dtr', 'cld', 'tmx', 'tmn', 'wet', 'vap', 'soi', 'dmi', 'pdo', 'nino4', 'nino34', 'nino3', 'pet', 'pre']\n"
     ]
    },
    {
     "name": "stderr",
     "output_type": "stream",
     "text": [
      "c:\\Users\\peera\\Desktop\\DroughtLSTM_oneday\\src\\data_utils.py:59: UserWarning: Parsing dates in %d/%m/%Y format when dayfirst=False (the default) was specified. Pass `dayfirst=True` or specify a format to silence this warning.\n",
      "  df[time_col] = pd.to_datetime(df[time_col])\n"
     ]
    },
    {
     "name": "stdout",
     "output_type": "stream",
     "text": [
      "Data scaling complete.\n",
      "--- Starting Data Gridding Process (Fixed Step Method) ---\n",
      "Using fixed grid step of: 0.5 degrees\n",
      "Grid boundaries: LAT (6.25, 20.25), LON (97.75, 105.25)\n",
      "Calculated grid dimensions: Height=29, Width=16\n",
      "Created 2D validity mask (29x16) with 179 valid data pixels.\n",
      "Pivoting data into a 4D tensor of shape (1404, 29, 16, 15)...\n",
      "--- Data Gridding Process Finished ---\n",
      "--- Starting Data Gridding Process (Fixed Step Method) ---\n",
      "Using fixed grid step of: 0.5 degrees\n",
      "Grid boundaries: LAT (6.25, 20.25), LON (97.75, 105.25)\n",
      "Calculated grid dimensions: Height=29, Width=16\n",
      "Created 2D validity mask (29x16) with 179 valid data pixels.\n",
      "Pivoting data into a 4D tensor of shape (36, 29, 16, 15)...\n",
      "--- Data Gridding Process Finished ---\n",
      "--- Starting Data Gridding Process (Fixed Step Method) ---\n",
      "Using fixed grid step of: 0.5 degrees\n",
      "Grid boundaries: LAT (6.25, 20.25), LON (97.75, 105.25)\n",
      "Calculated grid dimensions: Height=29, Width=16\n",
      "Created 2D validity mask (29x16) with 179 valid data pixels.\n",
      "Pivoting data into a 4D tensor of shape (36, 29, 16, 15)...\n",
      "--- Data Gridding Process Finished ---\n"
     ]
    },
    {
     "name": "stderr",
     "output_type": "stream",
     "text": [
      "[I 2025-06-14 04:23:01,918] A new study created in memory with name: no-name-dc9089c1-5f9a-433c-aa94-ede852658dbc\n",
      "c:\\Users\\peera\\Desktop\\DroughtLSTM_oneday\\src\\cnn2dlstmpipeline.py:372: FutureWarning: suggest_loguniform has been deprecated in v3.0.0. This feature will be removed in v6.0.0. See https://github.com/optuna/optuna/releases/tag/v3.0.0. Use suggest_float(..., log=True) instead.\n",
      "  lr = trial.suggest_loguniform('learning_rate', 1e-4, 1e-2)\n",
      "[I 2025-06-14 04:23:08,192] Trial 0 finished with value: 0.05085700874527296 and parameters: {'batch_size': 8, 'hidden_cnn': 32, 'kernel_size': 5, 'lstm_hidden_size': 64, 'lstm_layers': 2, 'dropout': 0.42895156255175143, 'learning_rate': 0.00021714212438257824}. Best is trial 0 with value: 0.05085700874527296.\n",
      "[I 2025-06-14 04:23:13,034] Trial 1 finished with value: 0.039678958555062614 and parameters: {'batch_size': 8, 'hidden_cnn': 16, 'kernel_size': 3, 'lstm_hidden_size': 32, 'lstm_layers': 2, 'dropout': 0.16158837438859058, 'learning_rate': 0.000902110861009664}. Best is trial 1 with value: 0.039678958555062614.\n"
     ]
    },
    {
     "name": "stdout",
     "output_type": "stream",
     "text": [
      "Best trial: {'batch_size': 8, 'hidden_cnn': 16, 'kernel_size': 3, 'lstm_hidden_size': 32, 'lstm_layers': 2, 'dropout': 0.16158837438859058, 'learning_rate': 0.000902110861009664}\n",
      "Retraining final model with best params...\n",
      "Epoch 1/2 - Val Loss: 0.0697\n",
      "✅ New best model saved to c:\\Users\\peera\\Desktop\\DroughtLSTM_oneday\\config\\cnn2dlstm\\..\\..\\models_saved\\cnn2dlstm_test\\cnnlstm_best_model.pt\n",
      "Epoch 2/2 - Val Loss: 0.0430\n",
      "✅ New best model saved to c:\\Users\\peera\\Desktop\\DroughtLSTM_oneday\\config\\cnn2dlstm\\..\\..\\models_saved\\cnn2dlstm_test\\cnnlstm_best_model.pt\n",
      "Final model saved to c:\\Users\\peera\\Desktop\\DroughtLSTM_oneday\\config\\cnn2dlstm\\..\\..\\models_saved\\cnn2dlstm_test\\cnnlstm_final_model.pt\n",
      "Train Set - RMSE: 64.3165, MAE: 43.0246, R2: 0.7751\n",
      "Val Set - RMSE: 63.8257, MAE: 44.8094, R2: 0.7671\n",
      "Test Set - RMSE: 72.9385, MAE: 50.5827, R2: 0.7514\n",
      "Metrics saved to c:\\Users\\peera\\Desktop\\DroughtLSTM_oneday\\config\\cnn2dlstm\\..\\..\\run_outputs\\cnn2dlstm_test\\evaluation_metrics.json\n"
     ]
    },
    {
     "name": "stderr",
     "output_type": "stream",
     "text": [
      "c:\\Users\\peera\\Desktop\\DroughtLSTM_oneday\\src\\data_utils.py:59: UserWarning: Parsing dates in %d/%m/%Y format when dayfirst=False (the default) was specified. Pass `dayfirst=True` or specify a format to silence this warning.\n",
      "  df[time_col] = pd.to_datetime(df[time_col])\n"
     ]
    },
    {
     "name": "stdout",
     "output_type": "stream",
     "text": [
      "Successfully loaded data from c:\\Users\\peera\\Desktop\\DroughtLSTM_oneday\\data\\full.csv. Shape: (264204, 19)\n",
      "Converted column 'time' to datetime.\n",
      "Data sorted by ['time', 'lat', 'lon'].\n"
     ]
    },
    {
     "name": "stderr",
     "output_type": "stream",
     "text": [
      "Saving predictions: 100%|██████████| 1440/1440 [01:03<00:00, 22.66it/s]\n"
     ]
    },
    {
     "name": "stdout",
     "output_type": "stream",
     "text": [
      "✅ Full predictions saved to: c:\\Users\\peera\\Desktop\\DroughtLSTM_oneday\\config\\cnn2dlstm\\..\\..\\run_outputs\\cnn2dlstm_test\\full_data_predictions.csv\n"
     ]
    }
   ],
   "source": [
    "# --- 1. Setup ---\n",
    "import os\n",
    "from src.cnn2dlstmpipeline import CNNLSTMPipeline  # adapt this import if you rename or move your pipeline script\n",
    "\n",
    "# Set config path\n",
    "config_path = \"../config/cnn2dlstm/config_cnn2dlstm_TEST.yaml\"\n",
    "\n",
    "# --- 2. Initialize pipeline ---\n",
    "pipeline = CNNLSTMPipeline(config_path)\n",
    "\n",
    "# --- 3. Run Optuna Tuning + Training ---\n",
    "pipeline.tune_and_train(n_trials=20)\n",
    "\n",
    "# --- 4. Evaluate Performance ---\n",
    "metrics = pipeline.evaluate()\n",
    "\n",
    "# --- 5. Save Full Data Predictions ---\n",
    "pred_df = pipeline.predict_on_full_data()\n"
   ]
  },
  {
   "cell_type": "code",
   "execution_count": 3,
   "id": "74accd5c",
   "metadata": {},
   "outputs": [
    {
     "name": "stdout",
     "output_type": "stream",
     "text": [
      "Configuration loaded from ../config/cnn2dlstm/config_cnn2dlstm_PRE.yaml\n",
      "Successfully loaded data from c:\\Users\\peera\\Desktop\\DroughtLSTM_oneday\\data\\full.csv. Shape: (264204, 19)\n",
      "Converted column 'time' to datetime.\n",
      "Data sorted by ['time', 'lat', 'lon'].\n",
      "Splitting data: Train ends 2017-12-31 00:00:00, Validation ends 2020-12-31 00:00:00\n",
      "Train set shape: (251316, 19), Time range: 1901-01-16 00:00:00 to 2017-12-16 00:00:00\n",
      "Validation set shape: (6444, 19), Time range: 2018-01-16 00:00:00 to 2020-12-16 00:00:00\n",
      "Test set shape: (6444, 19), Time range: 2021-01-16 00:00:00 to 2023-12-16 00:00:00\n",
      "Columns to be scaled using robust scaler: ['pre', 'tmp', 'dtr', 'cld', 'tmx', 'tmn', 'wet', 'vap', 'soi', 'dmi', 'pdo', 'nino4', 'nino34', 'nino3', 'pet', 'pre']\n"
     ]
    },
    {
     "name": "stderr",
     "output_type": "stream",
     "text": [
      "c:\\Users\\peera\\Desktop\\DroughtLSTM_oneday\\src\\data_utils.py:59: UserWarning: Parsing dates in %d/%m/%Y format when dayfirst=False (the default) was specified. Pass `dayfirst=True` or specify a format to silence this warning.\n",
      "  df[time_col] = pd.to_datetime(df[time_col])\n"
     ]
    },
    {
     "name": "stdout",
     "output_type": "stream",
     "text": [
      "Data scaling complete.\n",
      "--- Starting Data Gridding Process (Fixed Step Method) ---\n",
      "Using fixed grid step of: 0.5 degrees\n",
      "Grid boundaries: LAT (6.25, 20.25), LON (97.75, 105.25)\n",
      "Calculated grid dimensions: Height=29, Width=16\n",
      "Created 2D validity mask (29x16) with 179 valid data pixels.\n",
      "Pivoting data into a 4D tensor of shape (1404, 29, 16, 15)...\n",
      "--- Data Gridding Process Finished ---\n",
      "--- Starting Data Gridding Process (Fixed Step Method) ---\n",
      "Using fixed grid step of: 0.5 degrees\n",
      "Grid boundaries: LAT (6.25, 20.25), LON (97.75, 105.25)\n",
      "Calculated grid dimensions: Height=29, Width=16\n",
      "Created 2D validity mask (29x16) with 179 valid data pixels.\n",
      "Pivoting data into a 4D tensor of shape (36, 29, 16, 15)...\n",
      "--- Data Gridding Process Finished ---\n",
      "--- Starting Data Gridding Process (Fixed Step Method) ---\n",
      "Using fixed grid step of: 0.5 degrees\n",
      "Grid boundaries: LAT (6.25, 20.25), LON (97.75, 105.25)\n",
      "Calculated grid dimensions: Height=29, Width=16\n",
      "Created 2D validity mask (29x16) with 179 valid data pixels.\n",
      "Pivoting data into a 4D tensor of shape (36, 29, 16, 15)...\n"
     ]
    },
    {
     "name": "stderr",
     "output_type": "stream",
     "text": [
      "[I 2025-06-14 04:24:32,992] A new study created in memory with name: no-name-01107c21-5e36-4009-9aea-5324ded33edf\n"
     ]
    },
    {
     "name": "stdout",
     "output_type": "stream",
     "text": [
      "--- Data Gridding Process Finished ---\n"
     ]
    },
    {
     "name": "stderr",
     "output_type": "stream",
     "text": [
      "c:\\Users\\peera\\Desktop\\DroughtLSTM_oneday\\src\\cnn2dlstmpipeline.py:372: FutureWarning: suggest_loguniform has been deprecated in v3.0.0. This feature will be removed in v6.0.0. See https://github.com/optuna/optuna/releases/tag/v3.0.0. Use suggest_float(..., log=True) instead.\n",
      "  lr = trial.suggest_loguniform('learning_rate', 1e-4, 1e-2)\n",
      "[I 2025-06-14 04:24:35,576] Trial 0 finished with value: 0.038678670302033424 and parameters: {'batch_size': 8, 'hidden_cnn': 16, 'kernel_size': 5, 'lstm_hidden_size': 128, 'lstm_layers': 2, 'dropout': 0.45232272932132095, 'learning_rate': 0.006337724128558975}. Best is trial 0 with value: 0.038678670302033424.\n"
     ]
    },
    {
     "name": "stdout",
     "output_type": "stream",
     "text": [
      "Best trial: {'batch_size': 8, 'hidden_cnn': 16, 'kernel_size': 5, 'lstm_hidden_size': 128, 'lstm_layers': 2, 'dropout': 0.45232272932132095, 'learning_rate': 0.006337724128558975}\n",
      "Retraining final model with best params...\n",
      "Epoch 1/1 - Val Loss: 0.0989\n",
      "✅ New best model saved to c:\\Users\\peera\\Desktop\\DroughtLSTM_oneday\\config\\cnn2dlstm\\..\\..\\models_saved\\cnn2dlstm_PRE\\cnnlstm_best_model.pt\n",
      "Final model saved to c:\\Users\\peera\\Desktop\\DroughtLSTM_oneday\\config\\cnn2dlstm\\..\\..\\models_saved\\cnn2dlstm_PRE\\cnnlstm_final_model.pt\n",
      "Train Set - RMSE: 83.2774, MAE: 56.4628, R2: 0.6230\n",
      "Val Set - RMSE: 96.8237, MAE: 70.3384, R2: 0.4641\n",
      "Test Set - RMSE: 101.7889, MAE: 71.7985, R2: 0.5159\n",
      "Metrics saved to c:\\Users\\peera\\Desktop\\DroughtLSTM_oneday\\config\\cnn2dlstm\\..\\..\\run_outputs\\cnn2dlstm_PRE\\evaluation_metrics.json\n"
     ]
    },
    {
     "name": "stderr",
     "output_type": "stream",
     "text": [
      "c:\\Users\\peera\\Desktop\\DroughtLSTM_oneday\\src\\data_utils.py:59: UserWarning: Parsing dates in %d/%m/%Y format when dayfirst=False (the default) was specified. Pass `dayfirst=True` or specify a format to silence this warning.\n",
      "  df[time_col] = pd.to_datetime(df[time_col])\n"
     ]
    },
    {
     "name": "stdout",
     "output_type": "stream",
     "text": [
      "Successfully loaded data from c:\\Users\\peera\\Desktop\\DroughtLSTM_oneday\\data\\full.csv. Shape: (264204, 19)\n",
      "Converted column 'time' to datetime.\n",
      "Data sorted by ['time', 'lat', 'lon'].\n"
     ]
    },
    {
     "name": "stderr",
     "output_type": "stream",
     "text": [
      "Saving predictions: 100%|██████████| 1440/1440 [01:44<00:00, 13.72it/s]\n"
     ]
    },
    {
     "name": "stdout",
     "output_type": "stream",
     "text": [
      "✅ Full predictions saved to: c:\\Users\\peera\\Desktop\\DroughtLSTM_oneday\\config\\cnn2dlstm\\..\\..\\run_outputs\\cnn2dlstm_PRE\\full_data_predictions.csv\n"
     ]
    }
   ],
   "source": [
    "# --- 1. Setup ---\n",
    "import os\n",
    "from src.cnn2dlstmpipeline import CNNLSTMPipeline  # adapt this import if you rename or move your pipeline script\n",
    "\n",
    "# Set config path\n",
    "config_path = \"../config/cnn2dlstm/config_cnn2dlstm_PRE.yaml\"\n",
    "\n",
    "# --- 2. Initialize pipeline ---\n",
    "pipeline = CNNLSTMPipeline(config_path)\n",
    "\n",
    "# --- 3. Run Optuna Tuning + Training ---\n",
    "pipeline.tune_and_train(n_trials=20)\n",
    "\n",
    "# --- 4. Evaluate Performance ---\n",
    "metrics = pipeline.evaluate()\n",
    "\n",
    "# --- 5. Save Full Data Predictions ---\n",
    "pred_df = pipeline.predict_on_full_data()\n"
   ]
  },
  {
   "cell_type": "code",
   "execution_count": 4,
   "id": "2f3a8e3a",
   "metadata": {},
   "outputs": [
    {
     "name": "stdout",
     "output_type": "stream",
     "text": [
      "Configuration loaded from ../config/cnn2dlstm/config_cnn2dlstm_PET.yaml\n",
      "Successfully loaded data from c:\\Users\\peera\\Desktop\\DroughtLSTM_oneday\\data\\full.csv. Shape: (264204, 19)\n",
      "Converted column 'time' to datetime.\n",
      "Data sorted by ['time', 'lat', 'lon'].\n",
      "Splitting data: Train ends 2017-12-31 00:00:00, Validation ends 2020-12-31 00:00:00\n"
     ]
    },
    {
     "name": "stderr",
     "output_type": "stream",
     "text": [
      "c:\\Users\\peera\\Desktop\\DroughtLSTM_oneday\\src\\data_utils.py:59: UserWarning: Parsing dates in %d/%m/%Y format when dayfirst=False (the default) was specified. Pass `dayfirst=True` or specify a format to silence this warning.\n",
      "  df[time_col] = pd.to_datetime(df[time_col])\n"
     ]
    },
    {
     "name": "stdout",
     "output_type": "stream",
     "text": [
      "Train set shape: (251316, 19), Time range: 1901-01-16 00:00:00 to 2017-12-16 00:00:00\n",
      "Validation set shape: (6444, 19), Time range: 2018-01-16 00:00:00 to 2020-12-16 00:00:00\n",
      "Test set shape: (6444, 19), Time range: 2021-01-16 00:00:00 to 2023-12-16 00:00:00\n",
      "Columns to be scaled using robust scaler: ['pet', 'tmp', 'dtr', 'cld', 'tmx', 'tmn', 'wet', 'vap', 'soi', 'dmi', 'pdo', 'nino4', 'nino34', 'nino3', 'pet', 'pre']\n",
      "Data scaling complete.\n",
      "--- Starting Data Gridding Process (Fixed Step Method) ---\n",
      "Using fixed grid step of: 0.5 degrees\n",
      "Grid boundaries: LAT (6.25, 20.25), LON (97.75, 105.25)\n",
      "Calculated grid dimensions: Height=29, Width=16\n",
      "Created 2D validity mask (29x16) with 179 valid data pixels.\n",
      "Pivoting data into a 4D tensor of shape (1404, 29, 16, 15)...\n",
      "--- Data Gridding Process Finished ---\n",
      "--- Starting Data Gridding Process (Fixed Step Method) ---\n",
      "Using fixed grid step of: 0.5 degrees\n",
      "Grid boundaries: LAT (6.25, 20.25), LON (97.75, 105.25)\n",
      "Calculated grid dimensions: Height=29, Width=16\n",
      "Created 2D validity mask (29x16) with 179 valid data pixels.\n",
      "Pivoting data into a 4D tensor of shape (36, 29, 16, 15)...\n",
      "--- Data Gridding Process Finished ---\n",
      "--- Starting Data Gridding Process (Fixed Step Method) ---\n",
      "Using fixed grid step of: 0.5 degrees\n",
      "Grid boundaries: LAT (6.25, 20.25), LON (97.75, 105.25)\n",
      "Calculated grid dimensions: Height=29, Width=16\n",
      "Created 2D validity mask (29x16) with 179 valid data pixels.\n",
      "Pivoting data into a 4D tensor of shape (36, 29, 16, 15)...\n"
     ]
    },
    {
     "name": "stderr",
     "output_type": "stream",
     "text": [
      "[I 2025-06-14 04:26:52,843] A new study created in memory with name: no-name-e36a2269-310d-444c-bf4d-55c792be3611\n"
     ]
    },
    {
     "name": "stdout",
     "output_type": "stream",
     "text": [
      "--- Data Gridding Process Finished ---\n"
     ]
    },
    {
     "name": "stderr",
     "output_type": "stream",
     "text": [
      "c:\\Users\\peera\\Desktop\\DroughtLSTM_oneday\\src\\cnn2dlstmpipeline.py:372: FutureWarning: suggest_loguniform has been deprecated in v3.0.0. This feature will be removed in v6.0.0. See https://github.com/optuna/optuna/releases/tag/v3.0.0. Use suggest_float(..., log=True) instead.\n",
      "  lr = trial.suggest_loguniform('learning_rate', 1e-4, 1e-2)\n",
      "[I 2025-06-14 04:26:58,433] Trial 0 finished with value: 0.16494084149599075 and parameters: {'batch_size': 16, 'hidden_cnn': 16, 'kernel_size': 5, 'lstm_hidden_size': 64, 'lstm_layers': 1, 'dropout': 0.4447580895694871, 'learning_rate': 0.00013222822906972914}. Best is trial 0 with value: 0.16494084149599075.\n"
     ]
    },
    {
     "name": "stdout",
     "output_type": "stream",
     "text": [
      "Best trial: {'batch_size': 16, 'hidden_cnn': 16, 'kernel_size': 5, 'lstm_hidden_size': 64, 'lstm_layers': 1, 'dropout': 0.4447580895694871, 'learning_rate': 0.00013222822906972914}\n",
      "Retraining final model with best params...\n",
      "Epoch 1/1 - Val Loss: 0.1745\n",
      "✅ New best model saved to c:\\Users\\peera\\Desktop\\DroughtLSTM_oneday\\config\\cnn2dlstm\\..\\..\\models_saved\\cnn2dlstm_PET\\cnnlstm_best_model.pt\n",
      "Final model saved to c:\\Users\\peera\\Desktop\\DroughtLSTM_oneday\\config\\cnn2dlstm\\..\\..\\models_saved\\cnn2dlstm_PET\\cnnlstm_final_model.pt\n",
      "Train Set - RMSE: 16.2831, MAE: 11.7111, R2: 0.3499\n",
      "Val Set - RMSE: 17.9914, MAE: 13.1536, R2: 0.2458\n",
      "Test Set - RMSE: 15.3522, MAE: 11.3811, R2: 0.2671\n",
      "Metrics saved to c:\\Users\\peera\\Desktop\\DroughtLSTM_oneday\\config\\cnn2dlstm\\..\\..\\run_outputs\\cnn2dlstm_PET\\evaluation_metrics.json\n",
      "Successfully loaded data from c:\\Users\\peera\\Desktop\\DroughtLSTM_oneday\\data\\full.csv. Shape: (264204, 19)\n",
      "Converted column 'time' to datetime.\n",
      "Data sorted by ['time', 'lat', 'lon'].\n"
     ]
    },
    {
     "name": "stderr",
     "output_type": "stream",
     "text": [
      "c:\\Users\\peera\\Desktop\\DroughtLSTM_oneday\\src\\data_utils.py:59: UserWarning: Parsing dates in %d/%m/%Y format when dayfirst=False (the default) was specified. Pass `dayfirst=True` or specify a format to silence this warning.\n",
      "  df[time_col] = pd.to_datetime(df[time_col])\n",
      "Saving predictions: 100%|██████████| 1440/1440 [03:05<00:00,  7.76it/s]\n"
     ]
    },
    {
     "name": "stdout",
     "output_type": "stream",
     "text": [
      "✅ Full predictions saved to: c:\\Users\\peera\\Desktop\\DroughtLSTM_oneday\\config\\cnn2dlstm\\..\\..\\run_outputs\\cnn2dlstm_PET\\full_data_predictions.csv\n"
     ]
    }
   ],
   "source": [
    "# --- 1. Setup ---\n",
    "import os\n",
    "from src.cnn2dlstmpipeline import CNNLSTMPipeline  # adapt this import if you rename or move your pipeline script\n",
    "\n",
    "# Set config path\n",
    "config_path = \"../config/cnn2dlstm/config_cnn2dlstm_PET.yaml\"\n",
    "\n",
    "# --- 2. Initialize pipeline ---\n",
    "pipeline = CNNLSTMPipeline(config_path)\n",
    "\n",
    "# --- 3. Run Optuna Tuning + Training ---\n",
    "pipeline.tune_and_train(n_trials=20)\n",
    "\n",
    "# --- 4. Evaluate Performance ---\n",
    "metrics = pipeline.evaluate()\n",
    "\n",
    "# --- 5. Save Full Data Predictions ---\n",
    "pred_df = pipeline.predict_on_full_data()\n"
   ]
  },
  {
   "cell_type": "code",
   "execution_count": 6,
   "id": "f09e6d61",
   "metadata": {},
   "outputs": [
    {
     "name": "stdout",
     "output_type": "stream",
     "text": [
      "Configuration loaded from ../config/cnn2dlstm/config_cnn2dlstm_SPEI.yaml\n",
      "Successfully loaded data from c:\\Users\\peera\\Desktop\\DroughtLSTM_oneday\\data\\full.csv. Shape: (264204, 19)\n",
      "Converted column 'time' to datetime.\n",
      "Data sorted by ['time', 'lat', 'lon'].\n",
      "Splitting data: Train ends 2017-12-31 00:00:00, Validation ends 2020-12-31 00:00:00\n",
      "Train set shape: (251316, 19), Time range: 1901-01-16 00:00:00 to 2017-12-16 00:00:00\n",
      "Validation set shape: (6444, 19), Time range: 2018-01-16 00:00:00 to 2020-12-16 00:00:00\n",
      "Test set shape: (6444, 19), Time range: 2021-01-16 00:00:00 to 2023-12-16 00:00:00\n",
      "Columns to be scaled using robust scaler: ['spei', 'tmp', 'dtr', 'cld', 'tmx', 'tmn', 'wet', 'vap', 'soi', 'dmi', 'pdo', 'nino4', 'nino34', 'nino3', 'pet', 'pre', 'spei']\n"
     ]
    },
    {
     "name": "stderr",
     "output_type": "stream",
     "text": [
      "c:\\Users\\peera\\Desktop\\DroughtLSTM_oneday\\src\\data_utils.py:59: UserWarning: Parsing dates in %d/%m/%Y format when dayfirst=False (the default) was specified. Pass `dayfirst=True` or specify a format to silence this warning.\n",
      "  df[time_col] = pd.to_datetime(df[time_col])\n"
     ]
    },
    {
     "name": "stdout",
     "output_type": "stream",
     "text": [
      "Data scaling complete.\n",
      "--- Starting Data Gridding Process (Fixed Step Method) ---\n",
      "Using fixed grid step of: 0.5 degrees\n",
      "Grid boundaries: LAT (6.25, 20.25), LON (97.75, 105.25)\n",
      "Calculated grid dimensions: Height=29, Width=16\n",
      "Created 2D validity mask (29x16) with 179 valid data pixels.\n",
      "Pivoting data into a 4D tensor of shape (1404, 29, 16, 16)...\n",
      "--- Data Gridding Process Finished ---\n",
      "--- Starting Data Gridding Process (Fixed Step Method) ---\n",
      "Using fixed grid step of: 0.5 degrees\n",
      "Grid boundaries: LAT (6.25, 20.25), LON (97.75, 105.25)\n",
      "Calculated grid dimensions: Height=29, Width=16\n",
      "Created 2D validity mask (29x16) with 179 valid data pixels.\n",
      "Pivoting data into a 4D tensor of shape (36, 29, 16, 16)...\n",
      "--- Data Gridding Process Finished ---\n",
      "--- Starting Data Gridding Process (Fixed Step Method) ---\n",
      "Using fixed grid step of: 0.5 degrees\n",
      "Grid boundaries: LAT (6.25, 20.25), LON (97.75, 105.25)\n",
      "Calculated grid dimensions: Height=29, Width=16\n",
      "Created 2D validity mask (29x16) with 179 valid data pixels.\n",
      "Pivoting data into a 4D tensor of shape (36, 29, 16, 16)...\n",
      "--- Data Gridding Process Finished ---\n"
     ]
    },
    {
     "name": "stderr",
     "output_type": "stream",
     "text": [
      "[I 2025-06-14 04:45:05,583] A new study created in memory with name: no-name-a8b54b52-5ec6-430b-9a8b-21ac2452b717\n",
      "c:\\Users\\peera\\Desktop\\DroughtLSTM_oneday\\src\\cnn2dlstmpipeline.py:372: FutureWarning: suggest_loguniform has been deprecated in v3.0.0. This feature will be removed in v6.0.0. See https://github.com/optuna/optuna/releases/tag/v3.0.0. Use suggest_float(..., log=True) instead.\n",
      "  lr = trial.suggest_loguniform('learning_rate', 1e-4, 1e-2)\n",
      "[I 2025-06-14 04:45:08,043] Trial 0 finished with value: 0.22025936841964722 and parameters: {'batch_size': 8, 'hidden_cnn': 8, 'kernel_size': 5, 'lstm_hidden_size': 128, 'lstm_layers': 2, 'dropout': 0.4727760943471732, 'learning_rate': 0.008812750718129897}. Best is trial 0 with value: 0.22025936841964722.\n"
     ]
    },
    {
     "name": "stdout",
     "output_type": "stream",
     "text": [
      "Best trial: {'batch_size': 8, 'hidden_cnn': 8, 'kernel_size': 5, 'lstm_hidden_size': 128, 'lstm_layers': 2, 'dropout': 0.4727760943471732, 'learning_rate': 0.008812750718129897}\n",
      "Retraining final model with best params...\n",
      "Epoch 1/1 - Val Loss: 0.2110\n",
      "✅ New best model saved to c:\\Users\\peera\\Desktop\\DroughtLSTM_oneday\\config\\cnn2dlstm\\..\\..\\models_saved\\cnn2dlstm_SPEI\\cnnlstm_best_model.pt\n",
      "Final model saved to c:\\Users\\peera\\Desktop\\DroughtLSTM_oneday\\config\\cnn2dlstm\\..\\..\\models_saved\\cnn2dlstm_SPEI\\cnnlstm_final_model.pt\n",
      "Train Set - RMSE: 0.9977, MAE: 0.8123, R2: -0.0040\n",
      "Val Set - RMSE: 1.0433, MAE: 0.8914, R2: -0.2521\n",
      "Test Set - RMSE: 1.1076, MAE: 0.9349, R2: -0.1366\n",
      "Metrics saved to c:\\Users\\peera\\Desktop\\DroughtLSTM_oneday\\config\\cnn2dlstm\\..\\..\\run_outputs\\cnn2dlstm_SPEI\\evaluation_metrics.json\n"
     ]
    },
    {
     "name": "stderr",
     "output_type": "stream",
     "text": [
      "c:\\Users\\peera\\Desktop\\DroughtLSTM_oneday\\src\\data_utils.py:59: UserWarning: Parsing dates in %d/%m/%Y format when dayfirst=False (the default) was specified. Pass `dayfirst=True` or specify a format to silence this warning.\n",
      "  df[time_col] = pd.to_datetime(df[time_col])\n"
     ]
    },
    {
     "name": "stdout",
     "output_type": "stream",
     "text": [
      "Successfully loaded data from c:\\Users\\peera\\Desktop\\DroughtLSTM_oneday\\data\\full.csv. Shape: (264204, 19)\n",
      "Converted column 'time' to datetime.\n",
      "Data sorted by ['time', 'lat', 'lon'].\n"
     ]
    },
    {
     "name": "stderr",
     "output_type": "stream",
     "text": [
      "Saving predictions: 100%|██████████| 1440/1440 [00:54<00:00, 26.61it/s]\n"
     ]
    },
    {
     "name": "stdout",
     "output_type": "stream",
     "text": [
      "✅ Full predictions saved to: c:\\Users\\peera\\Desktop\\DroughtLSTM_oneday\\config\\cnn2dlstm\\..\\..\\run_outputs\\cnn2dlstm_SPEI\\full_data_predictions.csv\n"
     ]
    }
   ],
   "source": [
    "# --- 1. Setup ---\n",
    "import os\n",
    "from src.cnn2dlstmpipeline import CNNLSTMPipeline  # adapt this import if you rename or move your pipeline script\n",
    "\n",
    "# Set config path\n",
    "config_path = \"../config/cnn2dlstm/config_cnn2dlstm_SPEI.yaml\"\n",
    "\n",
    "# --- 2. Initialize pipeline ---\n",
    "pipeline = CNNLSTMPipeline(config_path)\n",
    "\n",
    "# --- 3. Run Optuna Tuning + Training ---\n",
    "pipeline.tune_and_train(n_trials=20)\n",
    "\n",
    "# --- 4. Evaluate Performance ---\n",
    "metrics = pipeline.evaluate()\n",
    "\n",
    "# --- 5. Save Full Data Predictions ---\n",
    "pred_df = pipeline.predict_on_full_data()\n"
   ]
  }
 ],
 "metadata": {
  "kernelspec": {
   "display_name": "drought_lstm_base",
   "language": "python",
   "name": "python3"
  },
  "language_info": {
   "codemirror_mode": {
    "name": "ipython",
    "version": 3
   },
   "file_extension": ".py",
   "mimetype": "text/x-python",
   "name": "python",
   "nbconvert_exporter": "python",
   "pygments_lexer": "ipython3",
   "version": "3.12.7"
  }
 },
 "nbformat": 4,
 "nbformat_minor": 5
}
